{
 "cells": [
  {
   "cell_type": "code",
   "execution_count": 90,
   "metadata": {},
   "outputs": [],
   "source": [
    "import numpy as np\n",
    "import pandas as pd\n",
    "import sys\n"
   ]
  },
  {
   "cell_type": "code",
   "execution_count": 91,
   "metadata": {},
   "outputs": [
    {
     "data": {
      "text/html": [
       "<div>\n",
       "<style scoped>\n",
       "    .dataframe tbody tr th:only-of-type {\n",
       "        vertical-align: middle;\n",
       "    }\n",
       "\n",
       "    .dataframe tbody tr th {\n",
       "        vertical-align: top;\n",
       "    }\n",
       "\n",
       "    .dataframe thead th {\n",
       "        text-align: right;\n",
       "    }\n",
       "</style>\n",
       "<table border=\"1\" class=\"dataframe\">\n",
       "  <thead>\n",
       "    <tr style=\"text-align: right;\">\n",
       "      <th></th>\n",
       "      <th>Hotel Name\\t\\t\\t\\t\\t\\t\\t\\t\\t</th>\n",
       "      <th>Rating</th>\n",
       "      <th>Rating Description</th>\n",
       "      <th>Reviews</th>\n",
       "      <th>Star Rating</th>\n",
       "      <th>Location</th>\n",
       "      <th>Nearest Landmark</th>\n",
       "      <th>Distance to Landmark</th>\n",
       "      <th>Price</th>\n",
       "      <th>Tax</th>\n",
       "    </tr>\n",
       "  </thead>\n",
       "  <tbody>\n",
       "    <tr>\n",
       "      <th>0</th>\n",
       "      <td>Gokulam Park</td>\n",
       "      <td>4.1</td>\n",
       "      <td>Very Good</td>\n",
       "      <td>1058</td>\n",
       "      <td>4.0</td>\n",
       "      <td>Chithirapuram</td>\n",
       "      <td>city centre</td>\n",
       "      <td>10.2 km</td>\n",
       "      <td>2,728</td>\n",
       "      <td>574</td>\n",
       "    </tr>\n",
       "    <tr>\n",
       "      <th>1</th>\n",
       "      <td>Sterling Munnar</td>\n",
       "      <td>3.8</td>\n",
       "      <td>Very Good</td>\n",
       "      <td>1088</td>\n",
       "      <td>4.0</td>\n",
       "      <td>Chinnakanal</td>\n",
       "      <td>city centre</td>\n",
       "      <td>19.2 km</td>\n",
       "      <td>4,451</td>\n",
       "      <td>969</td>\n",
       "    </tr>\n",
       "    <tr>\n",
       "      <th>2</th>\n",
       "      <td>Issacs Residency</td>\n",
       "      <td>4.1</td>\n",
       "      <td>Very Good</td>\n",
       "      <td>322</td>\n",
       "      <td>3.0</td>\n",
       "      <td>Central Munnar</td>\n",
       "      <td>Attukal Waterfalls</td>\n",
       "      <td>950 m</td>\n",
       "      <td>2,758</td>\n",
       "      <td>684</td>\n",
       "    </tr>\n",
       "    <tr>\n",
       "      <th>3</th>\n",
       "      <td>Tea Valley Resort</td>\n",
       "      <td>4.3</td>\n",
       "      <td>Excellent</td>\n",
       "      <td>1337</td>\n",
       "      <td>4.0</td>\n",
       "      <td>Pallivasal</td>\n",
       "      <td>city centre</td>\n",
       "      <td>4.8 km</td>\n",
       "      <td>2,675</td>\n",
       "      <td>756</td>\n",
       "    </tr>\n",
       "    <tr>\n",
       "      <th>4</th>\n",
       "      <td>Grand Plaza</td>\n",
       "      <td>4.3</td>\n",
       "      <td>Excellent</td>\n",
       "      <td>1058</td>\n",
       "      <td>4.0</td>\n",
       "      <td>Moolakadai</td>\n",
       "      <td>Attukal Waterfalls</td>\n",
       "      <td>1.9 km</td>\n",
       "      <td>3,203</td>\n",
       "      <td>654</td>\n",
       "    </tr>\n",
       "    <tr>\n",
       "      <th>...</th>\n",
       "      <td>...</td>\n",
       "      <td>...</td>\n",
       "      <td>...</td>\n",
       "      <td>...</td>\n",
       "      <td>...</td>\n",
       "      <td>...</td>\n",
       "      <td>...</td>\n",
       "      <td>...</td>\n",
       "      <td>...</td>\n",
       "      <td>...</td>\n",
       "    </tr>\n",
       "    <tr>\n",
       "      <th>69</th>\n",
       "      <td>The Fog Munnar (Resort &amp; Spa)</td>\n",
       "      <td>4.5</td>\n",
       "      <td>Excellent</td>\n",
       "      <td>292</td>\n",
       "      <td>5.0</td>\n",
       "      <td>Ettycity Road</td>\n",
       "      <td>city centre</td>\n",
       "      <td>13.2 km</td>\n",
       "      <td>8,103</td>\n",
       "      <td>2,178</td>\n",
       "    </tr>\n",
       "    <tr>\n",
       "      <th>70</th>\n",
       "      <td>Skylark Holidays | Rooms &amp; Caretaker</td>\n",
       "      <td>4.1</td>\n",
       "      <td>Very Good</td>\n",
       "      <td>17</td>\n",
       "      <td>NaN</td>\n",
       "      <td>Chinnakanal</td>\n",
       "      <td>city centre</td>\n",
       "      <td>20.6 km</td>\n",
       "      <td>3,317</td>\n",
       "      <td>684</td>\n",
       "    </tr>\n",
       "    <tr>\n",
       "      <th>71</th>\n",
       "      <td>Deshadan Mountain Resort- The highest resort i...</td>\n",
       "      <td>4.3</td>\n",
       "      <td>Excellent</td>\n",
       "      <td>395</td>\n",
       "      <td>4.0</td>\n",
       "      <td>Pallivasal</td>\n",
       "      <td>city centre</td>\n",
       "      <td>5.8 km</td>\n",
       "      <td>3,953</td>\n",
       "      <td>808</td>\n",
       "    </tr>\n",
       "    <tr>\n",
       "      <th>72</th>\n",
       "      <td>Nature Zone Jungle Resort</td>\n",
       "      <td>4.1</td>\n",
       "      <td>Very Good</td>\n",
       "      <td>187</td>\n",
       "      <td>4.0</td>\n",
       "      <td>Pallivasal</td>\n",
       "      <td>city centre</td>\n",
       "      <td>6.6 km</td>\n",
       "      <td>6,862</td>\n",
       "      <td>2,124</td>\n",
       "    </tr>\n",
       "    <tr>\n",
       "      <th>73</th>\n",
       "      <td>Lumino Highrange Homestay | Room &amp; Guided Treks</td>\n",
       "      <td>3.2</td>\n",
       "      <td>Good</td>\n",
       "      <td>221</td>\n",
       "      <td>NaN</td>\n",
       "      <td>Moolakadai</td>\n",
       "      <td>Attukal Waterfalls</td>\n",
       "      <td>1.3 km</td>\n",
       "      <td>1,014</td>\n",
       "      <td>223</td>\n",
       "    </tr>\n",
       "  </tbody>\n",
       "</table>\n",
       "<p>74 rows × 10 columns</p>\n",
       "</div>"
      ],
      "text/plain": [
       "                         Hotel Name\\t\\t\\t\\t\\t\\t\\t\\t\\t  Rating  \\\n",
       "0                                        Gokulam Park     4.1   \n",
       "1                                     Sterling Munnar     3.8   \n",
       "2                                    Issacs Residency     4.1   \n",
       "3                                   Tea Valley Resort     4.3   \n",
       "4                                         Grand Plaza     4.3   \n",
       "..                                                ...     ...   \n",
       "69                      The Fog Munnar (Resort & Spa)     4.5   \n",
       "70               Skylark Holidays | Rooms & Caretaker     4.1   \n",
       "71  Deshadan Mountain Resort- The highest resort i...     4.3   \n",
       "72                          Nature Zone Jungle Resort     4.1   \n",
       "73    Lumino Highrange Homestay | Room & Guided Treks     3.2   \n",
       "\n",
       "   Rating Description  Reviews  Star Rating         Location  \\\n",
       "0           Very Good     1058          4.0   Chithirapuram    \n",
       "1           Very Good     1088          4.0     Chinnakanal    \n",
       "2           Very Good      322          3.0  Central Munnar    \n",
       "3           Excellent     1337          4.0      Pallivasal    \n",
       "4           Excellent     1058          4.0      Moolakadai    \n",
       "..                ...      ...          ...              ...   \n",
       "69          Excellent      292          5.0   Ettycity Road    \n",
       "70          Very Good       17          NaN     Chinnakanal    \n",
       "71          Excellent      395          4.0      Pallivasal    \n",
       "72          Very Good      187          4.0      Pallivasal    \n",
       "73               Good      221          NaN      Moolakadai    \n",
       "\n",
       "      Nearest Landmark Distance to Landmark  Price    Tax  \n",
       "0          city centre             10.2 km   2,728    574  \n",
       "1          city centre             19.2 km   4,451    969  \n",
       "2   Attukal Waterfalls               950 m   2,758    684  \n",
       "3          city centre              4.8 km   2,675    756  \n",
       "4   Attukal Waterfalls              1.9 km   3,203    654  \n",
       "..                 ...                  ...    ...    ...  \n",
       "69         city centre             13.2 km   8,103  2,178  \n",
       "70         city centre             20.6 km   3,317    684  \n",
       "71         city centre              5.8 km   3,953    808  \n",
       "72         city centre              6.6 km   6,862  2,124  \n",
       "73  Attukal Waterfalls              1.3 km   1,014    223  \n",
       "\n",
       "[74 rows x 10 columns]"
      ]
     },
     "execution_count": 91,
     "metadata": {},
     "output_type": "execute_result"
    }
   ],
   "source": [
    "data = pd.read_csv('munnar_Dataset.csv')\n",
    "data"
   ]
  },
  {
   "cell_type": "code",
   "execution_count": 92,
   "metadata": {},
   "outputs": [
    {
     "name": "stdout",
     "output_type": "stream",
     "text": [
      "<class 'pandas.core.frame.DataFrame'>\n",
      "Index(['Hotel Name\\t\\t\\t\\t\\t\\t\\t\\t\\t', 'Rating', 'Rating Description',\n",
      "       'Reviews', 'Star Rating', 'Location', 'Nearest Landmark',\n",
      "       'Distance to Landmark', 'Price', 'Tax'],\n",
      "      dtype='object')\n",
      "(74, 10)\n"
     ]
    }
   ],
   "source": [
    "print(type(data))\n",
    "print(data.columns)\n",
    "print(data.shape)"
   ]
  },
  {
   "cell_type": "code",
   "execution_count": 93,
   "metadata": {},
   "outputs": [
    {
     "name": "stdout",
     "output_type": "stream",
     "text": [
      "<class 'pandas.core.frame.DataFrame'>\n",
      "RangeIndex: 74 entries, 0 to 73\n",
      "Data columns (total 10 columns):\n",
      " #   Column                Non-Null Count  Dtype  \n",
      "---  ------                --------------  -----  \n",
      " 0   Hotel Name\t\t\t\t\t\t\t\t\t   74 non-null     object \n",
      " 1   Rating                74 non-null     float64\n",
      " 2   Rating Description    74 non-null     object \n",
      " 3   Reviews               74 non-null     int64  \n",
      " 4   Star Rating           57 non-null     float64\n",
      " 5   Location              74 non-null     object \n",
      " 6   Nearest Landmark      74 non-null     object \n",
      " 7   Distance to Landmark  74 non-null     object \n",
      " 8   Price                 74 non-null     object \n",
      " 9   Tax                   72 non-null     object \n",
      "dtypes: float64(2), int64(1), object(7)\n",
      "memory usage: 5.9+ KB\n"
     ]
    }
   ],
   "source": [
    "data.info() #Summarizes the metadata of the data"
   ]
  },
  {
   "cell_type": "code",
   "execution_count": 94,
   "metadata": {},
   "outputs": [
    {
     "name": "stdout",
     "output_type": "stream",
     "text": [
      "36982\n",
      "RangeIndex(start=0, stop=74, step=1)\n",
      "  Hotel Name\\t\\t\\t\\t\\t\\t\\t\\t\\t  Rating Rating Description  Reviews  \\\n",
      "0                 Gokulam Park     4.1          Very Good     1058   \n",
      "1              Sterling Munnar     3.8          Very Good     1088   \n",
      "2             Issacs Residency     4.1          Very Good      322   \n",
      "\n",
      "   Star Rating         Location    Nearest Landmark Distance to Landmark  \\\n",
      "0          4.0   Chithirapuram          city centre             10.2 km    \n",
      "1          4.0     Chinnakanal          city centre             19.2 km    \n",
      "2          3.0  Central Munnar   Attukal Waterfalls               950 m    \n",
      "\n",
      "   Price  Tax  \n",
      "0  2,728  574  \n",
      "1  4,451  969  \n",
      "2  2,758  684  \n"
     ]
    }
   ],
   "source": [
    "print(sys.getsizeof(data))\n",
    "print(data.index)\n",
    "print(data.head(3))"
   ]
  },
  {
   "cell_type": "code",
   "execution_count": 95,
   "metadata": {},
   "outputs": [
    {
     "name": "stdout",
     "output_type": "stream",
     "text": [
      "Index(['Hotel Name', 'Rating', 'Rating Description', 'Reviews', 'Star Rating',\n",
      "       'Location', 'Nearest Landmark', 'Distance to Landmark', 'Price', 'Tax'],\n",
      "      dtype='object')\n",
      "<bound method NDFrame.head of                                            Hotel Name  Rating  \\\n",
      "0                                        Gokulam Park     4.1   \n",
      "1                                     Sterling Munnar     3.8   \n",
      "2                                    Issacs Residency     4.1   \n",
      "3                                   Tea Valley Resort     4.3   \n",
      "4                                         Grand Plaza     4.3   \n",
      "..                                                ...     ...   \n",
      "69                      The Fog Munnar (Resort & Spa)     4.5   \n",
      "70               Skylark Holidays | Rooms & Caretaker     4.1   \n",
      "71  Deshadan Mountain Resort- The highest resort i...     4.3   \n",
      "72                          Nature Zone Jungle Resort     4.1   \n",
      "73    Lumino Highrange Homestay | Room & Guided Treks     3.2   \n",
      "\n",
      "   Rating Description  Reviews  Star Rating         Location  \\\n",
      "0           Very Good     1058          4.0   Chithirapuram    \n",
      "1           Very Good     1088          4.0     Chinnakanal    \n",
      "2           Very Good      322          3.0  Central Munnar    \n",
      "3           Excellent     1337          4.0      Pallivasal    \n",
      "4           Excellent     1058          4.0      Moolakadai    \n",
      "..                ...      ...          ...              ...   \n",
      "69          Excellent      292          5.0   Ettycity Road    \n",
      "70          Very Good       17          NaN     Chinnakanal    \n",
      "71          Excellent      395          4.0      Pallivasal    \n",
      "72          Very Good      187          4.0      Pallivasal    \n",
      "73               Good      221          NaN      Moolakadai    \n",
      "\n",
      "      Nearest Landmark Distance to Landmark  Price    Tax  \n",
      "0          city centre             10.2 km   2,728    574  \n",
      "1          city centre             19.2 km   4,451    969  \n",
      "2   Attukal Waterfalls               950 m   2,758    684  \n",
      "3          city centre              4.8 km   2,675    756  \n",
      "4   Attukal Waterfalls              1.9 km   3,203    654  \n",
      "..                 ...                  ...    ...    ...  \n",
      "69         city centre             13.2 km   8,103  2,178  \n",
      "70         city centre             20.6 km   3,317    684  \n",
      "71         city centre              5.8 km   3,953    808  \n",
      "72         city centre              6.6 km   6,862  2,124  \n",
      "73  Attukal Waterfalls              1.3 km   1,014    223  \n",
      "\n",
      "[74 rows x 10 columns]>\n"
     ]
    }
   ],
   "source": [
    "# renaming the column Hotel Name\n",
    "data.rename(columns= {'Hotel Name\\t\\t\\t\\t\\t\\t\\t\\t\\t': 'Hotel Name'}, inplace=True)\n",
    "print(data.columns)\n",
    "print(data.head)"
   ]
  },
  {
   "cell_type": "code",
   "execution_count": 96,
   "metadata": {},
   "outputs": [
    {
     "data": {
      "text/html": [
       "<div>\n",
       "<style scoped>\n",
       "    .dataframe tbody tr th:only-of-type {\n",
       "        vertical-align: middle;\n",
       "    }\n",
       "\n",
       "    .dataframe tbody tr th {\n",
       "        vertical-align: top;\n",
       "    }\n",
       "\n",
       "    .dataframe thead th {\n",
       "        text-align: right;\n",
       "    }\n",
       "</style>\n",
       "<table border=\"1\" class=\"dataframe\">\n",
       "  <thead>\n",
       "    <tr style=\"text-align: right;\">\n",
       "      <th></th>\n",
       "      <th>Hotel Name</th>\n",
       "      <th>Rating</th>\n",
       "      <th>Rating Description</th>\n",
       "      <th>Reviews</th>\n",
       "      <th>Star Rating</th>\n",
       "      <th>Location</th>\n",
       "      <th>Nearest Landmark</th>\n",
       "      <th>Distance to Landmark</th>\n",
       "      <th>Price</th>\n",
       "      <th>Tax</th>\n",
       "    </tr>\n",
       "    <tr>\n",
       "      <th>Hotel Name</th>\n",
       "      <th></th>\n",
       "      <th></th>\n",
       "      <th></th>\n",
       "      <th></th>\n",
       "      <th></th>\n",
       "      <th></th>\n",
       "      <th></th>\n",
       "      <th></th>\n",
       "      <th></th>\n",
       "      <th></th>\n",
       "    </tr>\n",
       "  </thead>\n",
       "  <tbody>\n",
       "    <tr>\n",
       "      <th>Gokulam Park</th>\n",
       "      <td>Gokulam Park</td>\n",
       "      <td>4.1</td>\n",
       "      <td>Very Good</td>\n",
       "      <td>1058</td>\n",
       "      <td>4.0</td>\n",
       "      <td>Chithirapuram</td>\n",
       "      <td>city centre</td>\n",
       "      <td>10.2 km</td>\n",
       "      <td>2,728</td>\n",
       "      <td>574</td>\n",
       "    </tr>\n",
       "    <tr>\n",
       "      <th>Sterling Munnar</th>\n",
       "      <td>Sterling Munnar</td>\n",
       "      <td>3.8</td>\n",
       "      <td>Very Good</td>\n",
       "      <td>1088</td>\n",
       "      <td>4.0</td>\n",
       "      <td>Chinnakanal</td>\n",
       "      <td>city centre</td>\n",
       "      <td>19.2 km</td>\n",
       "      <td>4,451</td>\n",
       "      <td>969</td>\n",
       "    </tr>\n",
       "    <tr>\n",
       "      <th>Issacs Residency</th>\n",
       "      <td>Issacs Residency</td>\n",
       "      <td>4.1</td>\n",
       "      <td>Very Good</td>\n",
       "      <td>322</td>\n",
       "      <td>3.0</td>\n",
       "      <td>Central Munnar</td>\n",
       "      <td>Attukal Waterfalls</td>\n",
       "      <td>950 m</td>\n",
       "      <td>2,758</td>\n",
       "      <td>684</td>\n",
       "    </tr>\n",
       "    <tr>\n",
       "      <th>Tea Valley Resort</th>\n",
       "      <td>Tea Valley Resort</td>\n",
       "      <td>4.3</td>\n",
       "      <td>Excellent</td>\n",
       "      <td>1337</td>\n",
       "      <td>4.0</td>\n",
       "      <td>Pallivasal</td>\n",
       "      <td>city centre</td>\n",
       "      <td>4.8 km</td>\n",
       "      <td>2,675</td>\n",
       "      <td>756</td>\n",
       "    </tr>\n",
       "    <tr>\n",
       "      <th>Grand Plaza</th>\n",
       "      <td>Grand Plaza</td>\n",
       "      <td>4.3</td>\n",
       "      <td>Excellent</td>\n",
       "      <td>1058</td>\n",
       "      <td>4.0</td>\n",
       "      <td>Moolakadai</td>\n",
       "      <td>Attukal Waterfalls</td>\n",
       "      <td>1.9 km</td>\n",
       "      <td>3,203</td>\n",
       "      <td>654</td>\n",
       "    </tr>\n",
       "    <tr>\n",
       "      <th>...</th>\n",
       "      <td>...</td>\n",
       "      <td>...</td>\n",
       "      <td>...</td>\n",
       "      <td>...</td>\n",
       "      <td>...</td>\n",
       "      <td>...</td>\n",
       "      <td>...</td>\n",
       "      <td>...</td>\n",
       "      <td>...</td>\n",
       "      <td>...</td>\n",
       "    </tr>\n",
       "    <tr>\n",
       "      <th>The Fog Munnar (Resort &amp; Spa)</th>\n",
       "      <td>The Fog Munnar (Resort &amp; Spa)</td>\n",
       "      <td>4.5</td>\n",
       "      <td>Excellent</td>\n",
       "      <td>292</td>\n",
       "      <td>5.0</td>\n",
       "      <td>Ettycity Road</td>\n",
       "      <td>city centre</td>\n",
       "      <td>13.2 km</td>\n",
       "      <td>8,103</td>\n",
       "      <td>2,178</td>\n",
       "    </tr>\n",
       "    <tr>\n",
       "      <th>Skylark Holidays | Rooms &amp; Caretaker</th>\n",
       "      <td>Skylark Holidays | Rooms &amp; Caretaker</td>\n",
       "      <td>4.1</td>\n",
       "      <td>Very Good</td>\n",
       "      <td>17</td>\n",
       "      <td>NaN</td>\n",
       "      <td>Chinnakanal</td>\n",
       "      <td>city centre</td>\n",
       "      <td>20.6 km</td>\n",
       "      <td>3,317</td>\n",
       "      <td>684</td>\n",
       "    </tr>\n",
       "    <tr>\n",
       "      <th>Deshadan Mountain Resort- The highest resort in Munnar</th>\n",
       "      <td>Deshadan Mountain Resort- The highest resort i...</td>\n",
       "      <td>4.3</td>\n",
       "      <td>Excellent</td>\n",
       "      <td>395</td>\n",
       "      <td>4.0</td>\n",
       "      <td>Pallivasal</td>\n",
       "      <td>city centre</td>\n",
       "      <td>5.8 km</td>\n",
       "      <td>3,953</td>\n",
       "      <td>808</td>\n",
       "    </tr>\n",
       "    <tr>\n",
       "      <th>Nature Zone Jungle Resort</th>\n",
       "      <td>Nature Zone Jungle Resort</td>\n",
       "      <td>4.1</td>\n",
       "      <td>Very Good</td>\n",
       "      <td>187</td>\n",
       "      <td>4.0</td>\n",
       "      <td>Pallivasal</td>\n",
       "      <td>city centre</td>\n",
       "      <td>6.6 km</td>\n",
       "      <td>6,862</td>\n",
       "      <td>2,124</td>\n",
       "    </tr>\n",
       "    <tr>\n",
       "      <th>Lumino Highrange Homestay | Room &amp; Guided Treks</th>\n",
       "      <td>Lumino Highrange Homestay | Room &amp; Guided Treks</td>\n",
       "      <td>3.2</td>\n",
       "      <td>Good</td>\n",
       "      <td>221</td>\n",
       "      <td>NaN</td>\n",
       "      <td>Moolakadai</td>\n",
       "      <td>Attukal Waterfalls</td>\n",
       "      <td>1.3 km</td>\n",
       "      <td>1,014</td>\n",
       "      <td>223</td>\n",
       "    </tr>\n",
       "  </tbody>\n",
       "</table>\n",
       "<p>74 rows × 10 columns</p>\n",
       "</div>"
      ],
      "text/plain": [
       "                                                                                           Hotel Name  \\\n",
       "Hotel Name                                                                                              \n",
       "Gokulam Park                                                                             Gokulam Park   \n",
       "Sterling Munnar                                                                       Sterling Munnar   \n",
       "Issacs Residency                                                                     Issacs Residency   \n",
       "Tea Valley Resort                                                                   Tea Valley Resort   \n",
       "Grand Plaza                                                                               Grand Plaza   \n",
       "...                                                                                               ...   \n",
       "The Fog Munnar (Resort & Spa)                                           The Fog Munnar (Resort & Spa)   \n",
       "Skylark Holidays | Rooms & Caretaker                             Skylark Holidays | Rooms & Caretaker   \n",
       "Deshadan Mountain Resort- The highest resort in...  Deshadan Mountain Resort- The highest resort i...   \n",
       "Nature Zone Jungle Resort                                                   Nature Zone Jungle Resort   \n",
       "Lumino Highrange Homestay | Room & Guided Treks       Lumino Highrange Homestay | Room & Guided Treks   \n",
       "\n",
       "                                                    Rating Rating Description  \\\n",
       "Hotel Name                                                                      \n",
       "Gokulam Park                                           4.1          Very Good   \n",
       "Sterling Munnar                                        3.8          Very Good   \n",
       "Issacs Residency                                       4.1          Very Good   \n",
       "Tea Valley Resort                                      4.3          Excellent   \n",
       "Grand Plaza                                            4.3          Excellent   \n",
       "...                                                    ...                ...   \n",
       "The Fog Munnar (Resort & Spa)                          4.5          Excellent   \n",
       "Skylark Holidays | Rooms & Caretaker                   4.1          Very Good   \n",
       "Deshadan Mountain Resort- The highest resort in...     4.3          Excellent   \n",
       "Nature Zone Jungle Resort                              4.1          Very Good   \n",
       "Lumino Highrange Homestay | Room & Guided Treks        3.2               Good   \n",
       "\n",
       "                                                    Reviews  Star Rating  \\\n",
       "Hotel Name                                                                 \n",
       "Gokulam Park                                           1058          4.0   \n",
       "Sterling Munnar                                        1088          4.0   \n",
       "Issacs Residency                                        322          3.0   \n",
       "Tea Valley Resort                                      1337          4.0   \n",
       "Grand Plaza                                            1058          4.0   \n",
       "...                                                     ...          ...   \n",
       "The Fog Munnar (Resort & Spa)                           292          5.0   \n",
       "Skylark Holidays | Rooms & Caretaker                     17          NaN   \n",
       "Deshadan Mountain Resort- The highest resort in...      395          4.0   \n",
       "Nature Zone Jungle Resort                               187          4.0   \n",
       "Lumino Highrange Homestay | Room & Guided Treks         221          NaN   \n",
       "\n",
       "                                                           Location  \\\n",
       "Hotel Name                                                            \n",
       "Gokulam Park                                         Chithirapuram    \n",
       "Sterling Munnar                                        Chinnakanal    \n",
       "Issacs Residency                                    Central Munnar    \n",
       "Tea Valley Resort                                       Pallivasal    \n",
       "Grand Plaza                                             Moolakadai    \n",
       "...                                                             ...   \n",
       "The Fog Munnar (Resort & Spa)                        Ettycity Road    \n",
       "Skylark Holidays | Rooms & Caretaker                   Chinnakanal    \n",
       "Deshadan Mountain Resort- The highest resort in...      Pallivasal    \n",
       "Nature Zone Jungle Resort                               Pallivasal    \n",
       "Lumino Highrange Homestay | Room & Guided Treks         Moolakadai    \n",
       "\n",
       "                                                      Nearest Landmark  \\\n",
       "Hotel Name                                                               \n",
       "Gokulam Park                                               city centre   \n",
       "Sterling Munnar                                            city centre   \n",
       "Issacs Residency                                    Attukal Waterfalls   \n",
       "Tea Valley Resort                                          city centre   \n",
       "Grand Plaza                                         Attukal Waterfalls   \n",
       "...                                                                ...   \n",
       "The Fog Munnar (Resort & Spa)                              city centre   \n",
       "Skylark Holidays | Rooms & Caretaker                       city centre   \n",
       "Deshadan Mountain Resort- The highest resort in...         city centre   \n",
       "Nature Zone Jungle Resort                                  city centre   \n",
       "Lumino Highrange Homestay | Room & Guided Treks     Attukal Waterfalls   \n",
       "\n",
       "                                                   Distance to Landmark  \\\n",
       "Hotel Name                                                                \n",
       "Gokulam Park                                                   10.2 km    \n",
       "Sterling Munnar                                                19.2 km    \n",
       "Issacs Residency                                                 950 m    \n",
       "Tea Valley Resort                                               4.8 km    \n",
       "Grand Plaza                                                     1.9 km    \n",
       "...                                                                 ...   \n",
       "The Fog Munnar (Resort & Spa)                                  13.2 km    \n",
       "Skylark Holidays | Rooms & Caretaker                           20.6 km    \n",
       "Deshadan Mountain Resort- The highest resort in...              5.8 km    \n",
       "Nature Zone Jungle Resort                                       6.6 km    \n",
       "Lumino Highrange Homestay | Room & Guided Treks                 1.3 km    \n",
       "\n",
       "                                                    Price    Tax  \n",
       "Hotel Name                                                        \n",
       "Gokulam Park                                        2,728    574  \n",
       "Sterling Munnar                                     4,451    969  \n",
       "Issacs Residency                                    2,758    684  \n",
       "Tea Valley Resort                                   2,675    756  \n",
       "Grand Plaza                                         3,203    654  \n",
       "...                                                   ...    ...  \n",
       "The Fog Munnar (Resort & Spa)                       8,103  2,178  \n",
       "Skylark Holidays | Rooms & Caretaker                3,317    684  \n",
       "Deshadan Mountain Resort- The highest resort in...  3,953    808  \n",
       "Nature Zone Jungle Resort                           6,862  2,124  \n",
       "Lumino Highrange Homestay | Room & Guided Treks     1,014    223  \n",
       "\n",
       "[74 rows x 10 columns]"
      ]
     },
     "execution_count": 96,
     "metadata": {},
     "output_type": "execute_result"
    }
   ],
   "source": [
    "data.index= data['Hotel Name']\n",
    "data"
   ]
  },
  {
   "cell_type": "code",
   "execution_count": 97,
   "metadata": {},
   "outputs": [
    {
     "name": "stdout",
     "output_type": "stream",
     "text": [
      "Hotel Name                Gokulam Park\n",
      "Rating                             4.1\n",
      "Rating Description           Very Good\n",
      "Reviews                           1058\n",
      "Star Rating                          4\n",
      "Location                Chithirapuram \n",
      "Nearest Landmark           city centre\n",
      "Distance to Landmark          10.2 km \n",
      "Price                            2,728\n",
      "Tax                                574\n",
      "Name: Gokulam Park, dtype: object\n"
     ]
    }
   ],
   "source": [
    "# Dwe can differentiate between the iloc and loc\n",
    "print(data.iloc[0])"
   ]
  },
  {
   "cell_type": "code",
   "execution_count": 98,
   "metadata": {},
   "outputs": [
    {
     "name": "stdout",
     "output_type": "stream",
     "text": [
      "Hotel Name                Issacs Residency\n",
      "Rating                                 4.1\n",
      "Rating Description               Very Good\n",
      "Reviews                                322\n",
      "Star Rating                              3\n",
      "Location                   Central Munnar \n",
      "Nearest Landmark        Attukal Waterfalls\n",
      "Distance to Landmark                950 m \n",
      "Price                                2,758\n",
      "Tax                                    684\n",
      "Name: Issacs Residency, dtype: object\n"
     ]
    }
   ],
   "source": [
    "print(data.loc['Issacs Residency'])"
   ]
  },
  {
   "cell_type": "code",
   "execution_count": 99,
   "metadata": {},
   "outputs": [
    {
     "name": "stdout",
     "output_type": "stream",
     "text": [
      "                      Hotel Name  Rating Rating Description  Reviews  \\\n",
      "Hotel Name                                                             \n",
      "Gokulam Park        Gokulam Park     4.1          Very Good     1058   \n",
      "Sterling Munnar  Sterling Munnar     3.8          Very Good     1088   \n",
      "\n",
      "                 Star Rating        Location Nearest Landmark  \\\n",
      "Hotel Name                                                      \n",
      "Gokulam Park             4.0  Chithirapuram       city centre   \n",
      "Sterling Munnar          4.0    Chinnakanal       city centre   \n",
      "\n",
      "                Distance to Landmark  Price  Tax  \n",
      "Hotel Name                                        \n",
      "Gokulam Park                10.2 km   2,728  574  \n",
      "Sterling Munnar             19.2 km   4,451  969  \n"
     ]
    },
    {
     "data": {
      "text/html": [
       "<div>\n",
       "<style scoped>\n",
       "    .dataframe tbody tr th:only-of-type {\n",
       "        vertical-align: middle;\n",
       "    }\n",
       "\n",
       "    .dataframe tbody tr th {\n",
       "        vertical-align: top;\n",
       "    }\n",
       "\n",
       "    .dataframe thead th {\n",
       "        text-align: right;\n",
       "    }\n",
       "</style>\n",
       "<table border=\"1\" class=\"dataframe\">\n",
       "  <thead>\n",
       "    <tr style=\"text-align: right;\">\n",
       "      <th></th>\n",
       "      <th>Hotel Name</th>\n",
       "      <th>Rating</th>\n",
       "      <th>Rating Description</th>\n",
       "      <th>Reviews</th>\n",
       "      <th>Star Rating</th>\n",
       "      <th>Location</th>\n",
       "      <th>Nearest Landmark</th>\n",
       "      <th>Distance to Landmark</th>\n",
       "      <th>Price</th>\n",
       "      <th>Tax</th>\n",
       "    </tr>\n",
       "  </thead>\n",
       "  <tbody>\n",
       "    <tr>\n",
       "      <th>0</th>\n",
       "      <td>Gokulam Park</td>\n",
       "      <td>4.1</td>\n",
       "      <td>Very Good</td>\n",
       "      <td>1058</td>\n",
       "      <td>4.0</td>\n",
       "      <td>Chithirapuram</td>\n",
       "      <td>city centre</td>\n",
       "      <td>10.2 km</td>\n",
       "      <td>2,728</td>\n",
       "      <td>574</td>\n",
       "    </tr>\n",
       "    <tr>\n",
       "      <th>1</th>\n",
       "      <td>Sterling Munnar</td>\n",
       "      <td>3.8</td>\n",
       "      <td>Very Good</td>\n",
       "      <td>1088</td>\n",
       "      <td>4.0</td>\n",
       "      <td>Chinnakanal</td>\n",
       "      <td>city centre</td>\n",
       "      <td>19.2 km</td>\n",
       "      <td>4,451</td>\n",
       "      <td>969</td>\n",
       "    </tr>\n",
       "    <tr>\n",
       "      <th>2</th>\n",
       "      <td>Issacs Residency</td>\n",
       "      <td>4.1</td>\n",
       "      <td>Very Good</td>\n",
       "      <td>322</td>\n",
       "      <td>3.0</td>\n",
       "      <td>Central Munnar</td>\n",
       "      <td>Attukal Waterfalls</td>\n",
       "      <td>950 m</td>\n",
       "      <td>2,758</td>\n",
       "      <td>684</td>\n",
       "    </tr>\n",
       "    <tr>\n",
       "      <th>3</th>\n",
       "      <td>Tea Valley Resort</td>\n",
       "      <td>4.3</td>\n",
       "      <td>Excellent</td>\n",
       "      <td>1337</td>\n",
       "      <td>4.0</td>\n",
       "      <td>Pallivasal</td>\n",
       "      <td>city centre</td>\n",
       "      <td>4.8 km</td>\n",
       "      <td>2,675</td>\n",
       "      <td>756</td>\n",
       "    </tr>\n",
       "    <tr>\n",
       "      <th>4</th>\n",
       "      <td>Grand Plaza</td>\n",
       "      <td>4.3</td>\n",
       "      <td>Excellent</td>\n",
       "      <td>1058</td>\n",
       "      <td>4.0</td>\n",
       "      <td>Moolakadai</td>\n",
       "      <td>Attukal Waterfalls</td>\n",
       "      <td>1.9 km</td>\n",
       "      <td>3,203</td>\n",
       "      <td>654</td>\n",
       "    </tr>\n",
       "    <tr>\n",
       "      <th>...</th>\n",
       "      <td>...</td>\n",
       "      <td>...</td>\n",
       "      <td>...</td>\n",
       "      <td>...</td>\n",
       "      <td>...</td>\n",
       "      <td>...</td>\n",
       "      <td>...</td>\n",
       "      <td>...</td>\n",
       "      <td>...</td>\n",
       "      <td>...</td>\n",
       "    </tr>\n",
       "    <tr>\n",
       "      <th>69</th>\n",
       "      <td>The Fog Munnar (Resort &amp; Spa)</td>\n",
       "      <td>4.5</td>\n",
       "      <td>Excellent</td>\n",
       "      <td>292</td>\n",
       "      <td>5.0</td>\n",
       "      <td>Ettycity Road</td>\n",
       "      <td>city centre</td>\n",
       "      <td>13.2 km</td>\n",
       "      <td>8,103</td>\n",
       "      <td>2,178</td>\n",
       "    </tr>\n",
       "    <tr>\n",
       "      <th>70</th>\n",
       "      <td>Skylark Holidays | Rooms &amp; Caretaker</td>\n",
       "      <td>4.1</td>\n",
       "      <td>Very Good</td>\n",
       "      <td>17</td>\n",
       "      <td>NaN</td>\n",
       "      <td>Chinnakanal</td>\n",
       "      <td>city centre</td>\n",
       "      <td>20.6 km</td>\n",
       "      <td>3,317</td>\n",
       "      <td>684</td>\n",
       "    </tr>\n",
       "    <tr>\n",
       "      <th>71</th>\n",
       "      <td>Deshadan Mountain Resort- The highest resort i...</td>\n",
       "      <td>4.3</td>\n",
       "      <td>Excellent</td>\n",
       "      <td>395</td>\n",
       "      <td>4.0</td>\n",
       "      <td>Pallivasal</td>\n",
       "      <td>city centre</td>\n",
       "      <td>5.8 km</td>\n",
       "      <td>3,953</td>\n",
       "      <td>808</td>\n",
       "    </tr>\n",
       "    <tr>\n",
       "      <th>72</th>\n",
       "      <td>Nature Zone Jungle Resort</td>\n",
       "      <td>4.1</td>\n",
       "      <td>Very Good</td>\n",
       "      <td>187</td>\n",
       "      <td>4.0</td>\n",
       "      <td>Pallivasal</td>\n",
       "      <td>city centre</td>\n",
       "      <td>6.6 km</td>\n",
       "      <td>6,862</td>\n",
       "      <td>2,124</td>\n",
       "    </tr>\n",
       "    <tr>\n",
       "      <th>73</th>\n",
       "      <td>Lumino Highrange Homestay | Room &amp; Guided Treks</td>\n",
       "      <td>3.2</td>\n",
       "      <td>Good</td>\n",
       "      <td>221</td>\n",
       "      <td>NaN</td>\n",
       "      <td>Moolakadai</td>\n",
       "      <td>Attukal Waterfalls</td>\n",
       "      <td>1.3 km</td>\n",
       "      <td>1,014</td>\n",
       "      <td>223</td>\n",
       "    </tr>\n",
       "  </tbody>\n",
       "</table>\n",
       "<p>74 rows × 10 columns</p>\n",
       "</div>"
      ],
      "text/plain": [
       "                                           Hotel Name  Rating  \\\n",
       "0                                        Gokulam Park     4.1   \n",
       "1                                     Sterling Munnar     3.8   \n",
       "2                                    Issacs Residency     4.1   \n",
       "3                                   Tea Valley Resort     4.3   \n",
       "4                                         Grand Plaza     4.3   \n",
       "..                                                ...     ...   \n",
       "69                      The Fog Munnar (Resort & Spa)     4.5   \n",
       "70               Skylark Holidays | Rooms & Caretaker     4.1   \n",
       "71  Deshadan Mountain Resort- The highest resort i...     4.3   \n",
       "72                          Nature Zone Jungle Resort     4.1   \n",
       "73    Lumino Highrange Homestay | Room & Guided Treks     3.2   \n",
       "\n",
       "   Rating Description  Reviews  Star Rating         Location  \\\n",
       "0           Very Good     1058          4.0   Chithirapuram    \n",
       "1           Very Good     1088          4.0     Chinnakanal    \n",
       "2           Very Good      322          3.0  Central Munnar    \n",
       "3           Excellent     1337          4.0      Pallivasal    \n",
       "4           Excellent     1058          4.0      Moolakadai    \n",
       "..                ...      ...          ...              ...   \n",
       "69          Excellent      292          5.0   Ettycity Road    \n",
       "70          Very Good       17          NaN     Chinnakanal    \n",
       "71          Excellent      395          4.0      Pallivasal    \n",
       "72          Very Good      187          4.0      Pallivasal    \n",
       "73               Good      221          NaN      Moolakadai    \n",
       "\n",
       "      Nearest Landmark Distance to Landmark  Price    Tax  \n",
       "0          city centre             10.2 km   2,728    574  \n",
       "1          city centre             19.2 km   4,451    969  \n",
       "2   Attukal Waterfalls               950 m   2,758    684  \n",
       "3          city centre              4.8 km   2,675    756  \n",
       "4   Attukal Waterfalls              1.9 km   3,203    654  \n",
       "..                 ...                  ...    ...    ...  \n",
       "69         city centre             13.2 km   8,103  2,178  \n",
       "70         city centre             20.6 km   3,317    684  \n",
       "71         city centre              5.8 km   3,953    808  \n",
       "72         city centre              6.6 km   6,862  2,124  \n",
       "73  Attukal Waterfalls              1.3 km   1,014    223  \n",
       "\n",
       "[74 rows x 10 columns]"
      ]
     },
     "execution_count": 99,
     "metadata": {},
     "output_type": "execute_result"
    }
   ],
   "source": [
    "print(data.head(2))\n",
    "data.reset_index(inplace=True, drop=True) # Resetting the indexes \n",
    "data"
   ]
  },
  {
   "cell_type": "code",
   "execution_count": 100,
   "metadata": {},
   "outputs": [
    {
     "name": "stdout",
     "output_type": "stream",
     "text": [
      "<class 'pandas.core.frame.DataFrame'>\n",
      "RangeIndex: 74 entries, 0 to 73\n",
      "Data columns (total 10 columns):\n",
      " #   Column                Non-Null Count  Dtype  \n",
      "---  ------                --------------  -----  \n",
      " 0   Hotel Name            74 non-null     object \n",
      " 1   Rating                74 non-null     float64\n",
      " 2   Rating Description    74 non-null     object \n",
      " 3   Reviews               74 non-null     int64  \n",
      " 4   Star Rating           57 non-null     float64\n",
      " 5   Location              74 non-null     object \n",
      " 6   Nearest Landmark      74 non-null     object \n",
      " 7   Distance to Landmark  74 non-null     object \n",
      " 8   Price                 74 non-null     object \n",
      " 9   Tax                   72 non-null     object \n",
      "dtypes: float64(2), int64(1), object(7)\n",
      "memory usage: 5.9+ KB\n",
      "0.005161799999768846\n"
     ]
    }
   ],
   "source": [
    "from timeit import default_timer as timer\n",
    "start = timer()\n",
    "data.info()\n",
    "print(timer()-start)"
   ]
  },
  {
   "cell_type": "code",
   "execution_count": 101,
   "metadata": {},
   "outputs": [
    {
     "data": {
      "text/plain": [
       "Hotel Name              74\n",
       "Rating                  18\n",
       "Rating Description       4\n",
       "Reviews                 70\n",
       "Star Rating              4\n",
       "Location                22\n",
       "Nearest Landmark         2\n",
       "Distance to Landmark    57\n",
       "Price                   72\n",
       "Tax                     70\n",
       "dtype: int64"
      ]
     },
     "execution_count": 101,
     "metadata": {},
     "output_type": "execute_result"
    }
   ],
   "source": [
    "data.nunique()"
   ]
  },
  {
   "cell_type": "code",
   "execution_count": 102,
   "metadata": {},
   "outputs": [
    {
     "data": {
      "text/plain": [
       "Hotel Name               0\n",
       "Rating                   0\n",
       "Rating Description       0\n",
       "Reviews                  0\n",
       "Star Rating             17\n",
       "Location                 0\n",
       "Nearest Landmark         0\n",
       "Distance to Landmark     0\n",
       "Price                    0\n",
       "Tax                      2\n",
       "dtype: int64"
      ]
     },
     "execution_count": 102,
     "metadata": {},
     "output_type": "execute_result"
    }
   ],
   "source": [
    "data.isnull().sum() #checking the sum of null values in the dataset"
   ]
  },
  {
   "cell_type": "code",
   "execution_count": 103,
   "metadata": {},
   "outputs": [
    {
     "ename": "ValueError",
     "evalue": "could not convert string to float: '1,141'",
     "output_type": "error",
     "traceback": [
      "\u001b[1;31m---------------------------------------------------------------------------\u001b[0m",
      "\u001b[1;31mValueError\u001b[0m                                Traceback (most recent call last)",
      "\u001b[1;32m<ipython-input-103-35df8e836a5e>\u001b[0m in \u001b[0;36m<module>\u001b[1;34m\u001b[0m\n\u001b[1;32m----> 1\u001b[1;33m \u001b[0mdata\u001b[0m\u001b[1;33m[\u001b[0m\u001b[1;34m'Tax'\u001b[0m\u001b[1;33m]\u001b[0m\u001b[1;33m.\u001b[0m\u001b[0mastype\u001b[0m\u001b[1;33m(\u001b[0m\u001b[1;34m'float64'\u001b[0m\u001b[1;33m)\u001b[0m \u001b[1;31m#couldnot convert string to float dataype\u001b[0m\u001b[1;33m\u001b[0m\u001b[1;33m\u001b[0m\u001b[0m\n\u001b[0m",
      "\u001b[1;32m~\\anaconda3\\lib\\site-packages\\pandas\\core\\generic.py\u001b[0m in \u001b[0;36mastype\u001b[1;34m(self, dtype, copy, errors)\u001b[0m\n\u001b[0;32m   5696\u001b[0m         \u001b[1;32melse\u001b[0m\u001b[1;33m:\u001b[0m\u001b[1;33m\u001b[0m\u001b[1;33m\u001b[0m\u001b[0m\n\u001b[0;32m   5697\u001b[0m             \u001b[1;31m# else, only a single dtype is given\u001b[0m\u001b[1;33m\u001b[0m\u001b[1;33m\u001b[0m\u001b[1;33m\u001b[0m\u001b[0m\n\u001b[1;32m-> 5698\u001b[1;33m             \u001b[0mnew_data\u001b[0m \u001b[1;33m=\u001b[0m \u001b[0mself\u001b[0m\u001b[1;33m.\u001b[0m\u001b[0m_data\u001b[0m\u001b[1;33m.\u001b[0m\u001b[0mastype\u001b[0m\u001b[1;33m(\u001b[0m\u001b[0mdtype\u001b[0m\u001b[1;33m=\u001b[0m\u001b[0mdtype\u001b[0m\u001b[1;33m,\u001b[0m \u001b[0mcopy\u001b[0m\u001b[1;33m=\u001b[0m\u001b[0mcopy\u001b[0m\u001b[1;33m,\u001b[0m \u001b[0merrors\u001b[0m\u001b[1;33m=\u001b[0m\u001b[0merrors\u001b[0m\u001b[1;33m)\u001b[0m\u001b[1;33m\u001b[0m\u001b[1;33m\u001b[0m\u001b[0m\n\u001b[0m\u001b[0;32m   5699\u001b[0m             \u001b[1;32mreturn\u001b[0m \u001b[0mself\u001b[0m\u001b[1;33m.\u001b[0m\u001b[0m_constructor\u001b[0m\u001b[1;33m(\u001b[0m\u001b[0mnew_data\u001b[0m\u001b[1;33m)\u001b[0m\u001b[1;33m.\u001b[0m\u001b[0m__finalize__\u001b[0m\u001b[1;33m(\u001b[0m\u001b[0mself\u001b[0m\u001b[1;33m)\u001b[0m\u001b[1;33m\u001b[0m\u001b[1;33m\u001b[0m\u001b[0m\n\u001b[0;32m   5700\u001b[0m \u001b[1;33m\u001b[0m\u001b[0m\n",
      "\u001b[1;32m~\\anaconda3\\lib\\site-packages\\pandas\\core\\internals\\managers.py\u001b[0m in \u001b[0;36mastype\u001b[1;34m(self, dtype, copy, errors)\u001b[0m\n\u001b[0;32m    580\u001b[0m \u001b[1;33m\u001b[0m\u001b[0m\n\u001b[0;32m    581\u001b[0m     \u001b[1;32mdef\u001b[0m \u001b[0mastype\u001b[0m\u001b[1;33m(\u001b[0m\u001b[0mself\u001b[0m\u001b[1;33m,\u001b[0m \u001b[0mdtype\u001b[0m\u001b[1;33m,\u001b[0m \u001b[0mcopy\u001b[0m\u001b[1;33m:\u001b[0m \u001b[0mbool\u001b[0m \u001b[1;33m=\u001b[0m \u001b[1;32mFalse\u001b[0m\u001b[1;33m,\u001b[0m \u001b[0merrors\u001b[0m\u001b[1;33m:\u001b[0m \u001b[0mstr\u001b[0m \u001b[1;33m=\u001b[0m \u001b[1;34m\"raise\"\u001b[0m\u001b[1;33m)\u001b[0m\u001b[1;33m:\u001b[0m\u001b[1;33m\u001b[0m\u001b[1;33m\u001b[0m\u001b[0m\n\u001b[1;32m--> 582\u001b[1;33m         \u001b[1;32mreturn\u001b[0m \u001b[0mself\u001b[0m\u001b[1;33m.\u001b[0m\u001b[0mapply\u001b[0m\u001b[1;33m(\u001b[0m\u001b[1;34m\"astype\"\u001b[0m\u001b[1;33m,\u001b[0m \u001b[0mdtype\u001b[0m\u001b[1;33m=\u001b[0m\u001b[0mdtype\u001b[0m\u001b[1;33m,\u001b[0m \u001b[0mcopy\u001b[0m\u001b[1;33m=\u001b[0m\u001b[0mcopy\u001b[0m\u001b[1;33m,\u001b[0m \u001b[0merrors\u001b[0m\u001b[1;33m=\u001b[0m\u001b[0merrors\u001b[0m\u001b[1;33m)\u001b[0m\u001b[1;33m\u001b[0m\u001b[1;33m\u001b[0m\u001b[0m\n\u001b[0m\u001b[0;32m    583\u001b[0m \u001b[1;33m\u001b[0m\u001b[0m\n\u001b[0;32m    584\u001b[0m     \u001b[1;32mdef\u001b[0m \u001b[0mconvert\u001b[0m\u001b[1;33m(\u001b[0m\u001b[0mself\u001b[0m\u001b[1;33m,\u001b[0m \u001b[1;33m**\u001b[0m\u001b[0mkwargs\u001b[0m\u001b[1;33m)\u001b[0m\u001b[1;33m:\u001b[0m\u001b[1;33m\u001b[0m\u001b[1;33m\u001b[0m\u001b[0m\n",
      "\u001b[1;32m~\\anaconda3\\lib\\site-packages\\pandas\\core\\internals\\managers.py\u001b[0m in \u001b[0;36mapply\u001b[1;34m(self, f, filter, **kwargs)\u001b[0m\n\u001b[0;32m    440\u001b[0m                 \u001b[0mapplied\u001b[0m \u001b[1;33m=\u001b[0m \u001b[0mb\u001b[0m\u001b[1;33m.\u001b[0m\u001b[0mapply\u001b[0m\u001b[1;33m(\u001b[0m\u001b[0mf\u001b[0m\u001b[1;33m,\u001b[0m \u001b[1;33m**\u001b[0m\u001b[0mkwargs\u001b[0m\u001b[1;33m)\u001b[0m\u001b[1;33m\u001b[0m\u001b[1;33m\u001b[0m\u001b[0m\n\u001b[0;32m    441\u001b[0m             \u001b[1;32melse\u001b[0m\u001b[1;33m:\u001b[0m\u001b[1;33m\u001b[0m\u001b[1;33m\u001b[0m\u001b[0m\n\u001b[1;32m--> 442\u001b[1;33m                 \u001b[0mapplied\u001b[0m \u001b[1;33m=\u001b[0m \u001b[0mgetattr\u001b[0m\u001b[1;33m(\u001b[0m\u001b[0mb\u001b[0m\u001b[1;33m,\u001b[0m \u001b[0mf\u001b[0m\u001b[1;33m)\u001b[0m\u001b[1;33m(\u001b[0m\u001b[1;33m**\u001b[0m\u001b[0mkwargs\u001b[0m\u001b[1;33m)\u001b[0m\u001b[1;33m\u001b[0m\u001b[1;33m\u001b[0m\u001b[0m\n\u001b[0m\u001b[0;32m    443\u001b[0m             \u001b[0mresult_blocks\u001b[0m \u001b[1;33m=\u001b[0m \u001b[0m_extend_blocks\u001b[0m\u001b[1;33m(\u001b[0m\u001b[0mapplied\u001b[0m\u001b[1;33m,\u001b[0m \u001b[0mresult_blocks\u001b[0m\u001b[1;33m)\u001b[0m\u001b[1;33m\u001b[0m\u001b[1;33m\u001b[0m\u001b[0m\n\u001b[0;32m    444\u001b[0m \u001b[1;33m\u001b[0m\u001b[0m\n",
      "\u001b[1;32m~\\anaconda3\\lib\\site-packages\\pandas\\core\\internals\\blocks.py\u001b[0m in \u001b[0;36mastype\u001b[1;34m(self, dtype, copy, errors)\u001b[0m\n\u001b[0;32m    623\u001b[0m             \u001b[0mvals1d\u001b[0m \u001b[1;33m=\u001b[0m \u001b[0mvalues\u001b[0m\u001b[1;33m.\u001b[0m\u001b[0mravel\u001b[0m\u001b[1;33m(\u001b[0m\u001b[1;33m)\u001b[0m\u001b[1;33m\u001b[0m\u001b[1;33m\u001b[0m\u001b[0m\n\u001b[0;32m    624\u001b[0m             \u001b[1;32mtry\u001b[0m\u001b[1;33m:\u001b[0m\u001b[1;33m\u001b[0m\u001b[1;33m\u001b[0m\u001b[0m\n\u001b[1;32m--> 625\u001b[1;33m                 \u001b[0mvalues\u001b[0m \u001b[1;33m=\u001b[0m \u001b[0mastype_nansafe\u001b[0m\u001b[1;33m(\u001b[0m\u001b[0mvals1d\u001b[0m\u001b[1;33m,\u001b[0m \u001b[0mdtype\u001b[0m\u001b[1;33m,\u001b[0m \u001b[0mcopy\u001b[0m\u001b[1;33m=\u001b[0m\u001b[1;32mTrue\u001b[0m\u001b[1;33m)\u001b[0m\u001b[1;33m\u001b[0m\u001b[1;33m\u001b[0m\u001b[0m\n\u001b[0m\u001b[0;32m    626\u001b[0m             \u001b[1;32mexcept\u001b[0m \u001b[1;33m(\u001b[0m\u001b[0mValueError\u001b[0m\u001b[1;33m,\u001b[0m \u001b[0mTypeError\u001b[0m\u001b[1;33m)\u001b[0m\u001b[1;33m:\u001b[0m\u001b[1;33m\u001b[0m\u001b[1;33m\u001b[0m\u001b[0m\n\u001b[0;32m    627\u001b[0m                 \u001b[1;31m# e.g. astype_nansafe can fail on object-dtype of strings\u001b[0m\u001b[1;33m\u001b[0m\u001b[1;33m\u001b[0m\u001b[1;33m\u001b[0m\u001b[0m\n",
      "\u001b[1;32m~\\anaconda3\\lib\\site-packages\\pandas\\core\\dtypes\\cast.py\u001b[0m in \u001b[0;36mastype_nansafe\u001b[1;34m(arr, dtype, copy, skipna)\u001b[0m\n\u001b[0;32m    895\u001b[0m     \u001b[1;32mif\u001b[0m \u001b[0mcopy\u001b[0m \u001b[1;32mor\u001b[0m \u001b[0mis_object_dtype\u001b[0m\u001b[1;33m(\u001b[0m\u001b[0marr\u001b[0m\u001b[1;33m)\u001b[0m \u001b[1;32mor\u001b[0m \u001b[0mis_object_dtype\u001b[0m\u001b[1;33m(\u001b[0m\u001b[0mdtype\u001b[0m\u001b[1;33m)\u001b[0m\u001b[1;33m:\u001b[0m\u001b[1;33m\u001b[0m\u001b[1;33m\u001b[0m\u001b[0m\n\u001b[0;32m    896\u001b[0m         \u001b[1;31m# Explicit copy, or required since NumPy can't view from / to object.\u001b[0m\u001b[1;33m\u001b[0m\u001b[1;33m\u001b[0m\u001b[1;33m\u001b[0m\u001b[0m\n\u001b[1;32m--> 897\u001b[1;33m         \u001b[1;32mreturn\u001b[0m \u001b[0marr\u001b[0m\u001b[1;33m.\u001b[0m\u001b[0mastype\u001b[0m\u001b[1;33m(\u001b[0m\u001b[0mdtype\u001b[0m\u001b[1;33m,\u001b[0m \u001b[0mcopy\u001b[0m\u001b[1;33m=\u001b[0m\u001b[1;32mTrue\u001b[0m\u001b[1;33m)\u001b[0m\u001b[1;33m\u001b[0m\u001b[1;33m\u001b[0m\u001b[0m\n\u001b[0m\u001b[0;32m    898\u001b[0m \u001b[1;33m\u001b[0m\u001b[0m\n\u001b[0;32m    899\u001b[0m     \u001b[1;32mreturn\u001b[0m \u001b[0marr\u001b[0m\u001b[1;33m.\u001b[0m\u001b[0mview\u001b[0m\u001b[1;33m(\u001b[0m\u001b[0mdtype\u001b[0m\u001b[1;33m)\u001b[0m\u001b[1;33m\u001b[0m\u001b[1;33m\u001b[0m\u001b[0m\n",
      "\u001b[1;31mValueError\u001b[0m: could not convert string to float: '1,141'"
     ]
    }
   ],
   "source": [
    "data['Tax'].astype('float64') #couldnot convert string to float dataype"
   ]
  },
  {
   "cell_type": "code",
   "execution_count": 104,
   "metadata": {},
   "outputs": [
    {
     "name": "stdout",
     "output_type": "stream",
     "text": [
      "<class 'str'>\n"
     ]
    }
   ],
   "source": [
    "print(type(data['Tax'].iloc[0]))"
   ]
  },
  {
   "cell_type": "code",
   "execution_count": 105,
   "metadata": {},
   "outputs": [
    {
     "data": {
      "text/plain": [
       "0      574.0\n",
       "1      969.0\n",
       "2      684.0\n",
       "3      756.0\n",
       "4      654.0\n",
       "       ...  \n",
       "69    2178.0\n",
       "70     684.0\n",
       "71     808.0\n",
       "72    2124.0\n",
       "73     223.0\n",
       "Name: Tax, Length: 74, dtype: float64"
      ]
     },
     "execution_count": 105,
     "metadata": {},
     "output_type": "execute_result"
    }
   ],
   "source": [
    "data['Tax'] = data['Tax'].apply(lambda x: str(x))\n",
    "data['Tax'] = data['Tax'].apply(lambda x: x.replace(\",\", \"\"))\n",
    "data['Tax'] = data['Tax'].astype('float64')\n",
    "data['Tax']"
   ]
  },
  {
   "cell_type": "code",
   "execution_count": 106,
   "metadata": {},
   "outputs": [
    {
     "name": "stdout",
     "output_type": "stream",
     "text": [
      "<class 'pandas.core.frame.DataFrame'>\n",
      "RangeIndex: 74 entries, 0 to 73\n",
      "Data columns (total 10 columns):\n",
      " #   Column                Non-Null Count  Dtype  \n",
      "---  ------                --------------  -----  \n",
      " 0   Hotel Name            74 non-null     object \n",
      " 1   Rating                74 non-null     float64\n",
      " 2   Rating Description    74 non-null     object \n",
      " 3   Reviews               74 non-null     int64  \n",
      " 4   Star Rating           57 non-null     float64\n",
      " 5   Location              74 non-null     object \n",
      " 6   Nearest Landmark      74 non-null     object \n",
      " 7   Distance to Landmark  74 non-null     object \n",
      " 8   Price                 74 non-null     object \n",
      " 9   Tax                   72 non-null     float64\n",
      "dtypes: float64(3), int64(1), object(6)\n",
      "memory usage: 5.9+ KB\n"
     ]
    }
   ],
   "source": [
    "data.info()"
   ]
  },
  {
   "cell_type": "code",
   "execution_count": 107,
   "metadata": {},
   "outputs": [],
   "source": [
    "#Changing the data tpye of 'Price'\n",
    "data['Price'] = data['Price'].apply(lambda x: str(x))\n",
    "data['Price'] = data['Price'].apply(lambda x: x.replace(\",\", \"\"))\n",
    "data['Price'] = data['Price'].astype('float64')"
   ]
  },
  {
   "cell_type": "code",
   "execution_count": 108,
   "metadata": {},
   "outputs": [
    {
     "name": "stdout",
     "output_type": "stream",
     "text": [
      "<class 'pandas.core.frame.DataFrame'>\n",
      "RangeIndex: 74 entries, 0 to 73\n",
      "Data columns (total 10 columns):\n",
      " #   Column                Non-Null Count  Dtype  \n",
      "---  ------                --------------  -----  \n",
      " 0   Hotel Name            74 non-null     object \n",
      " 1   Rating                74 non-null     float64\n",
      " 2   Rating Description    74 non-null     object \n",
      " 3   Reviews               74 non-null     int64  \n",
      " 4   Star Rating           57 non-null     float64\n",
      " 5   Location              74 non-null     object \n",
      " 6   Nearest Landmark      74 non-null     object \n",
      " 7   Distance to Landmark  74 non-null     object \n",
      " 8   Price                 74 non-null     float64\n",
      " 9   Tax                   72 non-null     float64\n",
      "dtypes: float64(4), int64(1), object(5)\n",
      "memory usage: 5.9+ KB\n"
     ]
    }
   ],
   "source": [
    "data.info()"
   ]
  },
  {
   "cell_type": "code",
   "execution_count": 109,
   "metadata": {},
   "outputs": [
    {
     "ename": "ValueError",
     "evalue": "could not convert string to float: '10.2 km '",
     "output_type": "error",
     "traceback": [
      "\u001b[1;31m---------------------------------------------------------------------------\u001b[0m",
      "\u001b[1;31mValueError\u001b[0m                                Traceback (most recent call last)",
      "\u001b[1;32m<ipython-input-109-cf8dc7b1cc67>\u001b[0m in \u001b[0;36m<module>\u001b[1;34m\u001b[0m\n\u001b[1;32m----> 1\u001b[1;33m \u001b[0mdata\u001b[0m\u001b[1;33m[\u001b[0m\u001b[1;34m'Distance to Landmark'\u001b[0m\u001b[1;33m]\u001b[0m\u001b[1;33m.\u001b[0m\u001b[0mastype\u001b[0m\u001b[1;33m(\u001b[0m\u001b[1;34m'float64'\u001b[0m\u001b[1;33m)\u001b[0m\u001b[1;33m\u001b[0m\u001b[1;33m\u001b[0m\u001b[0m\n\u001b[0m",
      "\u001b[1;32m~\\anaconda3\\lib\\site-packages\\pandas\\core\\generic.py\u001b[0m in \u001b[0;36mastype\u001b[1;34m(self, dtype, copy, errors)\u001b[0m\n\u001b[0;32m   5696\u001b[0m         \u001b[1;32melse\u001b[0m\u001b[1;33m:\u001b[0m\u001b[1;33m\u001b[0m\u001b[1;33m\u001b[0m\u001b[0m\n\u001b[0;32m   5697\u001b[0m             \u001b[1;31m# else, only a single dtype is given\u001b[0m\u001b[1;33m\u001b[0m\u001b[1;33m\u001b[0m\u001b[1;33m\u001b[0m\u001b[0m\n\u001b[1;32m-> 5698\u001b[1;33m             \u001b[0mnew_data\u001b[0m \u001b[1;33m=\u001b[0m \u001b[0mself\u001b[0m\u001b[1;33m.\u001b[0m\u001b[0m_data\u001b[0m\u001b[1;33m.\u001b[0m\u001b[0mastype\u001b[0m\u001b[1;33m(\u001b[0m\u001b[0mdtype\u001b[0m\u001b[1;33m=\u001b[0m\u001b[0mdtype\u001b[0m\u001b[1;33m,\u001b[0m \u001b[0mcopy\u001b[0m\u001b[1;33m=\u001b[0m\u001b[0mcopy\u001b[0m\u001b[1;33m,\u001b[0m \u001b[0merrors\u001b[0m\u001b[1;33m=\u001b[0m\u001b[0merrors\u001b[0m\u001b[1;33m)\u001b[0m\u001b[1;33m\u001b[0m\u001b[1;33m\u001b[0m\u001b[0m\n\u001b[0m\u001b[0;32m   5699\u001b[0m             \u001b[1;32mreturn\u001b[0m \u001b[0mself\u001b[0m\u001b[1;33m.\u001b[0m\u001b[0m_constructor\u001b[0m\u001b[1;33m(\u001b[0m\u001b[0mnew_data\u001b[0m\u001b[1;33m)\u001b[0m\u001b[1;33m.\u001b[0m\u001b[0m__finalize__\u001b[0m\u001b[1;33m(\u001b[0m\u001b[0mself\u001b[0m\u001b[1;33m)\u001b[0m\u001b[1;33m\u001b[0m\u001b[1;33m\u001b[0m\u001b[0m\n\u001b[0;32m   5700\u001b[0m \u001b[1;33m\u001b[0m\u001b[0m\n",
      "\u001b[1;32m~\\anaconda3\\lib\\site-packages\\pandas\\core\\internals\\managers.py\u001b[0m in \u001b[0;36mastype\u001b[1;34m(self, dtype, copy, errors)\u001b[0m\n\u001b[0;32m    580\u001b[0m \u001b[1;33m\u001b[0m\u001b[0m\n\u001b[0;32m    581\u001b[0m     \u001b[1;32mdef\u001b[0m \u001b[0mastype\u001b[0m\u001b[1;33m(\u001b[0m\u001b[0mself\u001b[0m\u001b[1;33m,\u001b[0m \u001b[0mdtype\u001b[0m\u001b[1;33m,\u001b[0m \u001b[0mcopy\u001b[0m\u001b[1;33m:\u001b[0m \u001b[0mbool\u001b[0m \u001b[1;33m=\u001b[0m \u001b[1;32mFalse\u001b[0m\u001b[1;33m,\u001b[0m \u001b[0merrors\u001b[0m\u001b[1;33m:\u001b[0m \u001b[0mstr\u001b[0m \u001b[1;33m=\u001b[0m \u001b[1;34m\"raise\"\u001b[0m\u001b[1;33m)\u001b[0m\u001b[1;33m:\u001b[0m\u001b[1;33m\u001b[0m\u001b[1;33m\u001b[0m\u001b[0m\n\u001b[1;32m--> 582\u001b[1;33m         \u001b[1;32mreturn\u001b[0m \u001b[0mself\u001b[0m\u001b[1;33m.\u001b[0m\u001b[0mapply\u001b[0m\u001b[1;33m(\u001b[0m\u001b[1;34m\"astype\"\u001b[0m\u001b[1;33m,\u001b[0m \u001b[0mdtype\u001b[0m\u001b[1;33m=\u001b[0m\u001b[0mdtype\u001b[0m\u001b[1;33m,\u001b[0m \u001b[0mcopy\u001b[0m\u001b[1;33m=\u001b[0m\u001b[0mcopy\u001b[0m\u001b[1;33m,\u001b[0m \u001b[0merrors\u001b[0m\u001b[1;33m=\u001b[0m\u001b[0merrors\u001b[0m\u001b[1;33m)\u001b[0m\u001b[1;33m\u001b[0m\u001b[1;33m\u001b[0m\u001b[0m\n\u001b[0m\u001b[0;32m    583\u001b[0m \u001b[1;33m\u001b[0m\u001b[0m\n\u001b[0;32m    584\u001b[0m     \u001b[1;32mdef\u001b[0m \u001b[0mconvert\u001b[0m\u001b[1;33m(\u001b[0m\u001b[0mself\u001b[0m\u001b[1;33m,\u001b[0m \u001b[1;33m**\u001b[0m\u001b[0mkwargs\u001b[0m\u001b[1;33m)\u001b[0m\u001b[1;33m:\u001b[0m\u001b[1;33m\u001b[0m\u001b[1;33m\u001b[0m\u001b[0m\n",
      "\u001b[1;32m~\\anaconda3\\lib\\site-packages\\pandas\\core\\internals\\managers.py\u001b[0m in \u001b[0;36mapply\u001b[1;34m(self, f, filter, **kwargs)\u001b[0m\n\u001b[0;32m    440\u001b[0m                 \u001b[0mapplied\u001b[0m \u001b[1;33m=\u001b[0m \u001b[0mb\u001b[0m\u001b[1;33m.\u001b[0m\u001b[0mapply\u001b[0m\u001b[1;33m(\u001b[0m\u001b[0mf\u001b[0m\u001b[1;33m,\u001b[0m \u001b[1;33m**\u001b[0m\u001b[0mkwargs\u001b[0m\u001b[1;33m)\u001b[0m\u001b[1;33m\u001b[0m\u001b[1;33m\u001b[0m\u001b[0m\n\u001b[0;32m    441\u001b[0m             \u001b[1;32melse\u001b[0m\u001b[1;33m:\u001b[0m\u001b[1;33m\u001b[0m\u001b[1;33m\u001b[0m\u001b[0m\n\u001b[1;32m--> 442\u001b[1;33m                 \u001b[0mapplied\u001b[0m \u001b[1;33m=\u001b[0m \u001b[0mgetattr\u001b[0m\u001b[1;33m(\u001b[0m\u001b[0mb\u001b[0m\u001b[1;33m,\u001b[0m \u001b[0mf\u001b[0m\u001b[1;33m)\u001b[0m\u001b[1;33m(\u001b[0m\u001b[1;33m**\u001b[0m\u001b[0mkwargs\u001b[0m\u001b[1;33m)\u001b[0m\u001b[1;33m\u001b[0m\u001b[1;33m\u001b[0m\u001b[0m\n\u001b[0m\u001b[0;32m    443\u001b[0m             \u001b[0mresult_blocks\u001b[0m \u001b[1;33m=\u001b[0m \u001b[0m_extend_blocks\u001b[0m\u001b[1;33m(\u001b[0m\u001b[0mapplied\u001b[0m\u001b[1;33m,\u001b[0m \u001b[0mresult_blocks\u001b[0m\u001b[1;33m)\u001b[0m\u001b[1;33m\u001b[0m\u001b[1;33m\u001b[0m\u001b[0m\n\u001b[0;32m    444\u001b[0m \u001b[1;33m\u001b[0m\u001b[0m\n",
      "\u001b[1;32m~\\anaconda3\\lib\\site-packages\\pandas\\core\\internals\\blocks.py\u001b[0m in \u001b[0;36mastype\u001b[1;34m(self, dtype, copy, errors)\u001b[0m\n\u001b[0;32m    623\u001b[0m             \u001b[0mvals1d\u001b[0m \u001b[1;33m=\u001b[0m \u001b[0mvalues\u001b[0m\u001b[1;33m.\u001b[0m\u001b[0mravel\u001b[0m\u001b[1;33m(\u001b[0m\u001b[1;33m)\u001b[0m\u001b[1;33m\u001b[0m\u001b[1;33m\u001b[0m\u001b[0m\n\u001b[0;32m    624\u001b[0m             \u001b[1;32mtry\u001b[0m\u001b[1;33m:\u001b[0m\u001b[1;33m\u001b[0m\u001b[1;33m\u001b[0m\u001b[0m\n\u001b[1;32m--> 625\u001b[1;33m                 \u001b[0mvalues\u001b[0m \u001b[1;33m=\u001b[0m \u001b[0mastype_nansafe\u001b[0m\u001b[1;33m(\u001b[0m\u001b[0mvals1d\u001b[0m\u001b[1;33m,\u001b[0m \u001b[0mdtype\u001b[0m\u001b[1;33m,\u001b[0m \u001b[0mcopy\u001b[0m\u001b[1;33m=\u001b[0m\u001b[1;32mTrue\u001b[0m\u001b[1;33m)\u001b[0m\u001b[1;33m\u001b[0m\u001b[1;33m\u001b[0m\u001b[0m\n\u001b[0m\u001b[0;32m    626\u001b[0m             \u001b[1;32mexcept\u001b[0m \u001b[1;33m(\u001b[0m\u001b[0mValueError\u001b[0m\u001b[1;33m,\u001b[0m \u001b[0mTypeError\u001b[0m\u001b[1;33m)\u001b[0m\u001b[1;33m:\u001b[0m\u001b[1;33m\u001b[0m\u001b[1;33m\u001b[0m\u001b[0m\n\u001b[0;32m    627\u001b[0m                 \u001b[1;31m# e.g. astype_nansafe can fail on object-dtype of strings\u001b[0m\u001b[1;33m\u001b[0m\u001b[1;33m\u001b[0m\u001b[1;33m\u001b[0m\u001b[0m\n",
      "\u001b[1;32m~\\anaconda3\\lib\\site-packages\\pandas\\core\\dtypes\\cast.py\u001b[0m in \u001b[0;36mastype_nansafe\u001b[1;34m(arr, dtype, copy, skipna)\u001b[0m\n\u001b[0;32m    895\u001b[0m     \u001b[1;32mif\u001b[0m \u001b[0mcopy\u001b[0m \u001b[1;32mor\u001b[0m \u001b[0mis_object_dtype\u001b[0m\u001b[1;33m(\u001b[0m\u001b[0marr\u001b[0m\u001b[1;33m)\u001b[0m \u001b[1;32mor\u001b[0m \u001b[0mis_object_dtype\u001b[0m\u001b[1;33m(\u001b[0m\u001b[0mdtype\u001b[0m\u001b[1;33m)\u001b[0m\u001b[1;33m:\u001b[0m\u001b[1;33m\u001b[0m\u001b[1;33m\u001b[0m\u001b[0m\n\u001b[0;32m    896\u001b[0m         \u001b[1;31m# Explicit copy, or required since NumPy can't view from / to object.\u001b[0m\u001b[1;33m\u001b[0m\u001b[1;33m\u001b[0m\u001b[1;33m\u001b[0m\u001b[0m\n\u001b[1;32m--> 897\u001b[1;33m         \u001b[1;32mreturn\u001b[0m \u001b[0marr\u001b[0m\u001b[1;33m.\u001b[0m\u001b[0mastype\u001b[0m\u001b[1;33m(\u001b[0m\u001b[0mdtype\u001b[0m\u001b[1;33m,\u001b[0m \u001b[0mcopy\u001b[0m\u001b[1;33m=\u001b[0m\u001b[1;32mTrue\u001b[0m\u001b[1;33m)\u001b[0m\u001b[1;33m\u001b[0m\u001b[1;33m\u001b[0m\u001b[0m\n\u001b[0m\u001b[0;32m    898\u001b[0m \u001b[1;33m\u001b[0m\u001b[0m\n\u001b[0;32m    899\u001b[0m     \u001b[1;32mreturn\u001b[0m \u001b[0marr\u001b[0m\u001b[1;33m.\u001b[0m\u001b[0mview\u001b[0m\u001b[1;33m(\u001b[0m\u001b[0mdtype\u001b[0m\u001b[1;33m)\u001b[0m\u001b[1;33m\u001b[0m\u001b[1;33m\u001b[0m\u001b[0m\n",
      "\u001b[1;31mValueError\u001b[0m: could not convert string to float: '10.2 km '"
     ]
    }
   ],
   "source": [
    "data['Distance to Landmark'].astype('float64')"
   ]
  },
  {
   "cell_type": "code",
   "execution_count": 110,
   "metadata": {},
   "outputs": [],
   "source": [
    "def get_distance_in_km(x):\n",
    "    if x.split()[1] == 'm':\n",
    "        return float(x.split()[0])/1000\n",
    "    elif x.split()[1] == 'km':\n",
    "        return x.split()[0]\n",
    "\n",
    "data['Distance to Landmark'] = data['Distance to Landmark'].apply(get_distance_in_km)"
   ]
  },
  {
   "cell_type": "code",
   "execution_count": 111,
   "metadata": {},
   "outputs": [
    {
     "data": {
      "text/html": [
       "<div>\n",
       "<style scoped>\n",
       "    .dataframe tbody tr th:only-of-type {\n",
       "        vertical-align: middle;\n",
       "    }\n",
       "\n",
       "    .dataframe tbody tr th {\n",
       "        vertical-align: top;\n",
       "    }\n",
       "\n",
       "    .dataframe thead th {\n",
       "        text-align: right;\n",
       "    }\n",
       "</style>\n",
       "<table border=\"1\" class=\"dataframe\">\n",
       "  <thead>\n",
       "    <tr style=\"text-align: right;\">\n",
       "      <th></th>\n",
       "      <th>Hotel Name</th>\n",
       "      <th>Rating</th>\n",
       "      <th>Rating Description</th>\n",
       "      <th>Reviews</th>\n",
       "      <th>Star Rating</th>\n",
       "      <th>Location</th>\n",
       "      <th>Nearest Landmark</th>\n",
       "      <th>Distance to Landmark</th>\n",
       "      <th>Price</th>\n",
       "      <th>Tax</th>\n",
       "    </tr>\n",
       "  </thead>\n",
       "  <tbody>\n",
       "    <tr>\n",
       "      <th>0</th>\n",
       "      <td>Gokulam Park</td>\n",
       "      <td>4.1</td>\n",
       "      <td>Very Good</td>\n",
       "      <td>1058</td>\n",
       "      <td>4.0</td>\n",
       "      <td>Chithirapuram</td>\n",
       "      <td>city centre</td>\n",
       "      <td>10.2</td>\n",
       "      <td>2728.0</td>\n",
       "      <td>574.0</td>\n",
       "    </tr>\n",
       "    <tr>\n",
       "      <th>1</th>\n",
       "      <td>Sterling Munnar</td>\n",
       "      <td>3.8</td>\n",
       "      <td>Very Good</td>\n",
       "      <td>1088</td>\n",
       "      <td>4.0</td>\n",
       "      <td>Chinnakanal</td>\n",
       "      <td>city centre</td>\n",
       "      <td>19.2</td>\n",
       "      <td>4451.0</td>\n",
       "      <td>969.0</td>\n",
       "    </tr>\n",
       "    <tr>\n",
       "      <th>2</th>\n",
       "      <td>Issacs Residency</td>\n",
       "      <td>4.1</td>\n",
       "      <td>Very Good</td>\n",
       "      <td>322</td>\n",
       "      <td>3.0</td>\n",
       "      <td>Central Munnar</td>\n",
       "      <td>Attukal Waterfalls</td>\n",
       "      <td>0.95</td>\n",
       "      <td>2758.0</td>\n",
       "      <td>684.0</td>\n",
       "    </tr>\n",
       "    <tr>\n",
       "      <th>3</th>\n",
       "      <td>Tea Valley Resort</td>\n",
       "      <td>4.3</td>\n",
       "      <td>Excellent</td>\n",
       "      <td>1337</td>\n",
       "      <td>4.0</td>\n",
       "      <td>Pallivasal</td>\n",
       "      <td>city centre</td>\n",
       "      <td>4.8</td>\n",
       "      <td>2675.0</td>\n",
       "      <td>756.0</td>\n",
       "    </tr>\n",
       "    <tr>\n",
       "      <th>4</th>\n",
       "      <td>Grand Plaza</td>\n",
       "      <td>4.3</td>\n",
       "      <td>Excellent</td>\n",
       "      <td>1058</td>\n",
       "      <td>4.0</td>\n",
       "      <td>Moolakadai</td>\n",
       "      <td>Attukal Waterfalls</td>\n",
       "      <td>1.9</td>\n",
       "      <td>3203.0</td>\n",
       "      <td>654.0</td>\n",
       "    </tr>\n",
       "    <tr>\n",
       "      <th>...</th>\n",
       "      <td>...</td>\n",
       "      <td>...</td>\n",
       "      <td>...</td>\n",
       "      <td>...</td>\n",
       "      <td>...</td>\n",
       "      <td>...</td>\n",
       "      <td>...</td>\n",
       "      <td>...</td>\n",
       "      <td>...</td>\n",
       "      <td>...</td>\n",
       "    </tr>\n",
       "    <tr>\n",
       "      <th>69</th>\n",
       "      <td>The Fog Munnar (Resort &amp; Spa)</td>\n",
       "      <td>4.5</td>\n",
       "      <td>Excellent</td>\n",
       "      <td>292</td>\n",
       "      <td>5.0</td>\n",
       "      <td>Ettycity Road</td>\n",
       "      <td>city centre</td>\n",
       "      <td>13.2</td>\n",
       "      <td>8103.0</td>\n",
       "      <td>2178.0</td>\n",
       "    </tr>\n",
       "    <tr>\n",
       "      <th>70</th>\n",
       "      <td>Skylark Holidays | Rooms &amp; Caretaker</td>\n",
       "      <td>4.1</td>\n",
       "      <td>Very Good</td>\n",
       "      <td>17</td>\n",
       "      <td>NaN</td>\n",
       "      <td>Chinnakanal</td>\n",
       "      <td>city centre</td>\n",
       "      <td>20.6</td>\n",
       "      <td>3317.0</td>\n",
       "      <td>684.0</td>\n",
       "    </tr>\n",
       "    <tr>\n",
       "      <th>71</th>\n",
       "      <td>Deshadan Mountain Resort- The highest resort i...</td>\n",
       "      <td>4.3</td>\n",
       "      <td>Excellent</td>\n",
       "      <td>395</td>\n",
       "      <td>4.0</td>\n",
       "      <td>Pallivasal</td>\n",
       "      <td>city centre</td>\n",
       "      <td>5.8</td>\n",
       "      <td>3953.0</td>\n",
       "      <td>808.0</td>\n",
       "    </tr>\n",
       "    <tr>\n",
       "      <th>72</th>\n",
       "      <td>Nature Zone Jungle Resort</td>\n",
       "      <td>4.1</td>\n",
       "      <td>Very Good</td>\n",
       "      <td>187</td>\n",
       "      <td>4.0</td>\n",
       "      <td>Pallivasal</td>\n",
       "      <td>city centre</td>\n",
       "      <td>6.6</td>\n",
       "      <td>6862.0</td>\n",
       "      <td>2124.0</td>\n",
       "    </tr>\n",
       "    <tr>\n",
       "      <th>73</th>\n",
       "      <td>Lumino Highrange Homestay | Room &amp; Guided Treks</td>\n",
       "      <td>3.2</td>\n",
       "      <td>Good</td>\n",
       "      <td>221</td>\n",
       "      <td>NaN</td>\n",
       "      <td>Moolakadai</td>\n",
       "      <td>Attukal Waterfalls</td>\n",
       "      <td>1.3</td>\n",
       "      <td>1014.0</td>\n",
       "      <td>223.0</td>\n",
       "    </tr>\n",
       "  </tbody>\n",
       "</table>\n",
       "<p>74 rows × 10 columns</p>\n",
       "</div>"
      ],
      "text/plain": [
       "                                           Hotel Name  Rating  \\\n",
       "0                                        Gokulam Park     4.1   \n",
       "1                                     Sterling Munnar     3.8   \n",
       "2                                    Issacs Residency     4.1   \n",
       "3                                   Tea Valley Resort     4.3   \n",
       "4                                         Grand Plaza     4.3   \n",
       "..                                                ...     ...   \n",
       "69                      The Fog Munnar (Resort & Spa)     4.5   \n",
       "70               Skylark Holidays | Rooms & Caretaker     4.1   \n",
       "71  Deshadan Mountain Resort- The highest resort i...     4.3   \n",
       "72                          Nature Zone Jungle Resort     4.1   \n",
       "73    Lumino Highrange Homestay | Room & Guided Treks     3.2   \n",
       "\n",
       "   Rating Description  Reviews  Star Rating         Location  \\\n",
       "0           Very Good     1058          4.0   Chithirapuram    \n",
       "1           Very Good     1088          4.0     Chinnakanal    \n",
       "2           Very Good      322          3.0  Central Munnar    \n",
       "3           Excellent     1337          4.0      Pallivasal    \n",
       "4           Excellent     1058          4.0      Moolakadai    \n",
       "..                ...      ...          ...              ...   \n",
       "69          Excellent      292          5.0   Ettycity Road    \n",
       "70          Very Good       17          NaN     Chinnakanal    \n",
       "71          Excellent      395          4.0      Pallivasal    \n",
       "72          Very Good      187          4.0      Pallivasal    \n",
       "73               Good      221          NaN      Moolakadai    \n",
       "\n",
       "      Nearest Landmark Distance to Landmark   Price     Tax  \n",
       "0          city centre                 10.2  2728.0   574.0  \n",
       "1          city centre                 19.2  4451.0   969.0  \n",
       "2   Attukal Waterfalls                 0.95  2758.0   684.0  \n",
       "3          city centre                  4.8  2675.0   756.0  \n",
       "4   Attukal Waterfalls                  1.9  3203.0   654.0  \n",
       "..                 ...                  ...     ...     ...  \n",
       "69         city centre                 13.2  8103.0  2178.0  \n",
       "70         city centre                 20.6  3317.0   684.0  \n",
       "71         city centre                  5.8  3953.0   808.0  \n",
       "72         city centre                  6.6  6862.0  2124.0  \n",
       "73  Attukal Waterfalls                  1.3  1014.0   223.0  \n",
       "\n",
       "[74 rows x 10 columns]"
      ]
     },
     "execution_count": 111,
     "metadata": {},
     "output_type": "execute_result"
    }
   ],
   "source": [
    "data"
   ]
  },
  {
   "cell_type": "code",
   "execution_count": 112,
   "metadata": {},
   "outputs": [
    {
     "name": "stdout",
     "output_type": "stream",
     "text": [
      "<class 'pandas.core.frame.DataFrame'>\n",
      "RangeIndex: 74 entries, 0 to 73\n",
      "Data columns (total 10 columns):\n",
      " #   Column                Non-Null Count  Dtype  \n",
      "---  ------                --------------  -----  \n",
      " 0   Hotel Name            74 non-null     object \n",
      " 1   Rating                74 non-null     float64\n",
      " 2   Rating Description    74 non-null     object \n",
      " 3   Reviews               74 non-null     int64  \n",
      " 4   Star Rating           57 non-null     float64\n",
      " 5   Location              74 non-null     object \n",
      " 6   Nearest Landmark      74 non-null     object \n",
      " 7   Distance to Landmark  74 non-null     float64\n",
      " 8   Price                 74 non-null     float64\n",
      " 9   Tax                   72 non-null     float64\n",
      "dtypes: float64(5), int64(1), object(4)\n",
      "memory usage: 5.9+ KB\n"
     ]
    }
   ],
   "source": [
    "data['Distance to Landmark'] = data['Distance to Landmark'].astype('float64')\n",
    "data.info()"
   ]
  },
  {
   "cell_type": "code",
   "execution_count": 113,
   "metadata": {},
   "outputs": [
    {
     "data": {
      "text/plain": [
       "0            city centre\n",
       "1            city centre\n",
       "2     Attukal Waterfalls\n",
       "3            city centre\n",
       "4     Attukal Waterfalls\n",
       "             ...        \n",
       "69           city centre\n",
       "70           city centre\n",
       "71           city centre\n",
       "72           city centre\n",
       "73    Attukal Waterfalls\n",
       "Name: Nearest Landmark, Length: 74, dtype: object"
      ]
     },
     "execution_count": 113,
     "metadata": {},
     "output_type": "execute_result"
    }
   ],
   "source": [
    "data['Nearest Landmark'] #if this attribute would have been empty for a record, we can fill the empty record with the most common 'Nearest Landmark'\n",
    "#most_common_landmark = data['Nearest Landmark'].mode()[0] output: 'city centre'"
   ]
  },
  {
   "cell_type": "code",
   "execution_count": 114,
   "metadata": {},
   "outputs": [
    {
     "name": "stdout",
     "output_type": "stream",
     "text": [
      "Hotel Name n-uniques is 74\n",
      "Rating n-uniques is 18\n",
      "Rating Description n-uniques is 4\n",
      "Reviews n-uniques is 70\n",
      "Star Rating n-uniques is 5\n",
      "Location n-uniques is 22\n",
      "Nearest Landmark n-uniques is 2\n",
      "Distance to Landmark n-uniques is 57\n",
      "Price n-uniques is 72\n",
      "Tax n-uniques is 71\n",
      "Time taken for loop is 0.0009826999994402286\n"
     ]
    }
   ],
   "source": [
    "from timeit import default_timer as timer\n",
    "a = timer()\n",
    "for i in data.columns:\n",
    "    print(f\"{i} n-uniques is {len(data[i].unique())}\")\n",
    "print(f\"Time taken for loop is {timer()-a}\")"
   ]
  },
  {
   "cell_type": "code",
   "execution_count": 115,
   "metadata": {},
   "outputs": [
    {
     "data": {
      "text/plain": [
       "0     4\n",
       "1     4\n",
       "2     3\n",
       "3     4\n",
       "4     4\n",
       "     ..\n",
       "69    5\n",
       "70    4\n",
       "71    4\n",
       "72    4\n",
       "73    4\n",
       "Name: Star Rating, Length: 74, dtype: int8"
      ]
     },
     "execution_count": 115,
     "metadata": {},
     "output_type": "execute_result"
    }
   ],
   "source": [
    "data['Star Rating'].fillna(data['Star Rating'].value_counts().index[0], inplace=True)\n",
    "data['Star Rating'] = data['Star Rating'].astype('int8')\n",
    "data['Star Rating']"
   ]
  },
  {
   "cell_type": "code",
   "execution_count": 116,
   "metadata": {},
   "outputs": [
    {
     "data": {
      "text/plain": [
       "4    40\n",
       "3    18\n",
       "5    15\n",
       "2     1\n",
       "Name: Star Rating, dtype: int64"
      ]
     },
     "execution_count": 116,
     "metadata": {},
     "output_type": "execute_result"
    }
   ],
   "source": [
    "data['Star Rating'].value_counts()"
   ]
  },
  {
   "cell_type": "code",
   "execution_count": 117,
   "metadata": {},
   "outputs": [
    {
     "data": {
      "text/plain": [
       "Very Good    43\n",
       "Excellent    25\n",
       "Good          5\n",
       "Average       1\n",
       "Name: Rating Description, dtype: int64"
      ]
     },
     "execution_count": 117,
     "metadata": {},
     "output_type": "execute_result"
    }
   ],
   "source": [
    "data['Rating Description'].value_counts()"
   ]
  },
  {
   "cell_type": "code",
   "execution_count": 118,
   "metadata": {},
   "outputs": [
    {
     "data": {
      "text/plain": [
       "0     1058\n",
       "1     1088\n",
       "2      322\n",
       "3     1337\n",
       "4     1058\n",
       "      ... \n",
       "69     292\n",
       "70      17\n",
       "71     395\n",
       "72     187\n",
       "73     221\n",
       "Name: Reviews, Length: 74, dtype: int64"
      ]
     },
     "execution_count": 118,
     "metadata": {},
     "output_type": "execute_result"
    }
   ],
   "source": [
    "data['Reviews']"
   ]
  },
  {
   "cell_type": "code",
   "execution_count": 119,
   "metadata": {},
   "outputs": [
    {
     "name": "stdout",
     "output_type": "stream",
     "text": [
      "<class 'pandas.core.frame.DataFrame'>\n",
      "RangeIndex: 74 entries, 0 to 73\n",
      "Data columns (total 10 columns):\n",
      " #   Column                Non-Null Count  Dtype  \n",
      "---  ------                --------------  -----  \n",
      " 0   Hotel Name            74 non-null     object \n",
      " 1   Rating                74 non-null     float64\n",
      " 2   Rating Description    74 non-null     object \n",
      " 3   Reviews               74 non-null     int64  \n",
      " 4   Star Rating           74 non-null     int8   \n",
      " 5   Location              74 non-null     object \n",
      " 6   Nearest Landmark      74 non-null     object \n",
      " 7   Distance to Landmark  74 non-null     float64\n",
      " 8   Price                 74 non-null     float64\n",
      " 9   Tax                   72 non-null     float64\n",
      "dtypes: float64(4), int64(1), int8(1), object(4)\n",
      "memory usage: 5.4+ KB\n"
     ]
    }
   ],
   "source": [
    "data.info()"
   ]
  },
  {
   "cell_type": "code",
   "execution_count": 120,
   "metadata": {},
   "outputs": [],
   "source": [
    "data['Tax'].fillna(data['Tax'].median(), inplace=True)"
   ]
  },
  {
   "cell_type": "code",
   "execution_count": 121,
   "metadata": {},
   "outputs": [
    {
     "name": "stdout",
     "output_type": "stream",
     "text": [
      "<class 'pandas.core.frame.DataFrame'>\n",
      "RangeIndex: 74 entries, 0 to 73\n",
      "Data columns (total 10 columns):\n",
      " #   Column                Non-Null Count  Dtype  \n",
      "---  ------                --------------  -----  \n",
      " 0   Hotel Name            74 non-null     object \n",
      " 1   Rating                74 non-null     float64\n",
      " 2   Rating Description    74 non-null     object \n",
      " 3   Reviews               74 non-null     int64  \n",
      " 4   Star Rating           74 non-null     int8   \n",
      " 5   Location              74 non-null     object \n",
      " 6   Nearest Landmark      74 non-null     object \n",
      " 7   Distance to Landmark  74 non-null     float64\n",
      " 8   Price                 74 non-null     float64\n",
      " 9   Tax                   74 non-null     float64\n",
      "dtypes: float64(4), int64(1), int8(1), object(4)\n",
      "memory usage: 5.4+ KB\n"
     ]
    }
   ],
   "source": [
    "data.info()"
   ]
  },
  {
   "cell_type": "code",
   "execution_count": 122,
   "metadata": {},
   "outputs": [
    {
     "name": "stdout",
     "output_type": "stream",
     "text": [
      "Average Rating by Star Rating:\n",
      "Star Rating\n",
      "2    3.600000\n",
      "3    3.783333\n",
      "4    4.092500\n",
      "5    4.380000\n",
      "Name: Rating, dtype: float64\n"
     ]
    }
   ],
   "source": [
    "#Lets perform some groupby aggregate operations on the data to provide clear insights\n",
    "\n",
    "#Average rating by star rating\n",
    "avg_rating = data.groupby('Star Rating')['Rating'].mean()\n",
    "print(\"Average Rating by Star Rating:\")\n",
    "print(avg_rating)"
   ]
  },
  {
   "cell_type": "code",
   "execution_count": 123,
   "metadata": {},
   "outputs": [
    {
     "name": "stdout",
     "output_type": "stream",
     "text": [
      "\n",
      " Total Reviews by Location:\n",
      "Location\n",
      "Adimali                        977\n",
      "Ambazhachal                    289\n",
      "Anachal                       1576\n",
      "Bison Valley                    54\n",
      "Central Munnar                5557\n",
      "Chinnakanal                   2265\n",
      "Chithirapuram                 3423\n",
      "Devikulam                      101\n",
      "Ettycity Road                  581\n",
      "Kallar Vattiyar                246\n",
      "Laxmi Estate                   992\n",
      "Mankulam                        51\n",
      "Moolakadai                    2209\n",
      "Munnar                         437\n",
      "Muthirapuzhayar Road           249\n",
      "Muthuvaankudi                  112\n",
      "Near Munnar Bus Stand          995\n",
      "Near Pothamedu Viewpoint       366\n",
      "Pallivasal                    6969\n",
      "Periyakanal-Muttukad Road      227\n",
      "Pottankadu                      89\n",
      "Suryanelli                      45\n",
      "Name: Reviews, dtype: int64\n"
     ]
    }
   ],
   "source": [
    "# Total reviews by location\n",
    "total_reviews = data.groupby('Location')['Reviews'].sum()\n",
    "print(\"\\n Total Reviews by Location:\")\n",
    "print(total_reviews)"
   ]
  },
  {
   "cell_type": "code",
   "execution_count": 124,
   "metadata": {},
   "outputs": [
    {
     "name": "stdout",
     "output_type": "stream",
     "text": [
      "\n",
      " Average Price by Nearest Landmark:\n",
      "Nearest Landmark\n",
      "Attukal Waterfalls    2472.777778\n",
      "city centre           4467.428571\n",
      "Name: Price, dtype: float64\n"
     ]
    }
   ],
   "source": [
    "#Average price by nearest landmark\n",
    "avg_price_by_nearest_landmark = data.groupby('Nearest Landmark')['Price'].mean()\n",
    "print(\"\\n Average Price by Nearest Landmark:\")\n",
    "print(avg_price_by_nearest_landmark)"
   ]
  },
  {
   "cell_type": "code",
   "execution_count": 125,
   "metadata": {},
   "outputs": [
    {
     "name": "stdout",
     "output_type": "stream",
     "text": [
      "\n",
      " Minimum distance to Landmark by Star Rating:\n",
      "Star Rating\n",
      "2    0.44\n",
      "3    0.86\n",
      "4    0.77\n",
      "5    4.30\n",
      "Name: Distance to Landmark, dtype: float64\n"
     ]
    }
   ],
   "source": [
    "#Minimum distance to landmark by star Rating\n",
    "min_distance = data.groupby('Star Rating')['Distance to Landmark'].min()\n",
    "print(\"\\n Minimum distance to Landmark by Star Rating:\")\n",
    "print(min_distance)"
   ]
  },
  {
   "cell_type": "code",
   "execution_count": 126,
   "metadata": {},
   "outputs": [
    {
     "name": "stdout",
     "output_type": "stream",
     "text": [
      "Count of Hotels by Star Rating:\n",
      "Star Rating\n",
      "2     1\n",
      "3    18\n",
      "4    40\n",
      "5    15\n",
      "dtype: int64\n"
     ]
    }
   ],
   "source": [
    "#Count of hotels by star Rating\n",
    "hotels_count = data.groupby('Star Rating').size()\n",
    "print(\"Count of Hotels by Star Rating:\")\n",
    "print(hotels_count)"
   ]
  },
  {
   "cell_type": "code",
   "execution_count": 127,
   "metadata": {},
   "outputs": [
    {
     "name": "stdout",
     "output_type": "stream",
     "text": [
      "\n",
      "Maximum Price by Location:\n",
      "Location\n",
      "Adimali                        3481.0\n",
      "Ambazhachal                    2832.0\n",
      "Anachal                       10881.0\n",
      "Bison Valley                   2011.0\n",
      "Central Munnar                 5022.0\n",
      "Chinnakanal                    9417.0\n",
      "Chithirapuram                 11974.0\n",
      "Devikulam                      2630.0\n",
      "Ettycity Road                  8103.0\n",
      "Kallar Vattiyar                2046.0\n",
      "Laxmi Estate                   7784.0\n",
      "Mankulam                       7374.0\n",
      "Moolakadai                     3203.0\n",
      "Munnar                         6057.0\n",
      "Muthirapuzhayar Road           5583.0\n",
      "Muthuvaankudi                  2410.0\n",
      "Near Munnar Bus Stand          3627.0\n",
      "Near Pothamedu Viewpoint       4910.0\n",
      "Pallivasal                    10400.0\n",
      "Periyakanal-Muttukad Road     10631.0\n",
      "Pottankadu                     3412.0\n",
      "Suryanelli                     1041.0\n",
      "Name: Price, dtype: float64\n"
     ]
    }
   ],
   "source": [
    "#Maximum price by location\n",
    "max_price = data.groupby('Location')['Price'].max()\n",
    "print(\"\\nMaximum Price by Location:\")\n",
    "print(max_price)"
   ]
  },
  {
   "cell_type": "code",
   "execution_count": 128,
   "metadata": {},
   "outputs": [
    {
     "name": "stdout",
     "output_type": "stream",
     "text": [
      "Rating Description\n",
      "Average       156.0\n",
      "Excellent    1026.0\n",
      "Good          557.0\n",
      "Very Good     665.0\n",
      "Name: Tax, dtype: float64\n"
     ]
    }
   ],
   "source": [
    "#Median tax by rating desription\n",
    "median_tax = data.groupby('Rating Description')['Tax'].median()\n",
    "print(median_tax)"
   ]
  },
  {
   "cell_type": "code",
   "execution_count": 129,
   "metadata": {},
   "outputs": [
    {
     "name": "stdout",
     "output_type": "stream",
     "text": [
      "\n",
      " Total Reviews by Nearest Landmark:\n",
      "Nearest Landmark\n",
      "Attukal Waterfalls     8761\n",
      "city centre           19049\n",
      "Name: Reviews, dtype: int64\n"
     ]
    }
   ],
   "source": [
    "#Total reviews by nearest Landmark\n",
    "total_reviews_landmark = data.groupby('Nearest Landmark')['Reviews'].sum()\n",
    "print(\"\\n Total Reviews by Nearest Landmark:\")\n",
    "print(total_reviews_landmark)"
   ]
  },
  {
   "cell_type": "code",
   "execution_count": 130,
   "metadata": {},
   "outputs": [
    {
     "name": "stdout",
     "output_type": "stream",
     "text": [
      "\n",
      "Minimum distance to Landmark by LOcation:\n",
      "Location\n",
      "Adimali                       19.20\n",
      "Ambazhachal                   13.80\n",
      "Anachal                       10.50\n",
      "Bison Valley                  21.60\n",
      "Central Munnar                 0.44\n",
      "Chinnakanal                   19.20\n",
      "Chithirapuram                  8.80\n",
      "Devikulam                     14.20\n",
      "Ettycity Road                 11.30\n",
      "Kallar Vattiyar               16.40\n",
      "Laxmi Estate                  12.30\n",
      "Mankulam                      19.50\n",
      "Moolakadai                     1.30\n",
      "Munnar                        14.10\n",
      "Muthirapuzhayar Road          13.10\n",
      "Muthuvaankudi                 13.40\n",
      "Near Munnar Bus Stand          2.20\n",
      "Near Pothamedu Viewpoint       3.30\n",
      "Pallivasal                     4.30\n",
      "Periyakanal-Muttukad Road     22.60\n",
      "Pottankadu                    15.60\n",
      "Suryanelli                    22.40\n",
      "Name: Distance to Landmark, dtype: float64\n"
     ]
    }
   ],
   "source": [
    "#Minimum distance to landmark by location\n",
    "min_distance_by_location = data.groupby('Location')['Distance to Landmark'].min()\n",
    "print(\"\\nMinimum distance to Landmark by LOcation:\")\n",
    "print(min_distance_by_location)"
   ]
  },
  {
   "cell_type": "code",
   "execution_count": 131,
   "metadata": {},
   "outputs": [
    {
     "data": {
      "image/png": "[encoded data removed]",
      "text/plain": [
       "<Figure size 720x432 with 1 Axes>"
      ]
     },
     "metadata": {
      "needs_background": "light"
     },
     "output_type": "display_data"
    }
   ],
   "source": [
    "import matplotlib.pyplot as plt\n",
    "import seaborn as sns\n",
    "\n",
    "#Group by 'Location' and calculate average ratings\n",
    "loc_avg_ratings = data.groupby('Location')['Rating'].mean()\n",
    "\n",
    "#Bar chart for average ratings by location\n",
    "plt.figure(figsize=(10, 6))\n",
    "sns.barplot(x=loc_avg_ratings.index, y=loc_avg_ratings.values)\n",
    "plt.xlabel('Location')\n",
    "plt.ylabel('Average Rating')\n",
    "plt.title('Average Ratings by Location')\n",
    "plt.xticks(rotation=45)\n",
    "plt.show()"
   ]
  },
  {
   "cell_type": "code",
   "execution_count": 132,
   "metadata": {},
   "outputs": [
    {
     "data": {
      "image/png": "[encoded data removed]",
      "text/plain": [
       "<Figure size 576x432 with 1 Axes>"
      ]
     },
     "metadata": {
      "needs_background": "light"
     },
     "output_type": "display_data"
    }
   ],
   "source": [
    "#Histogram for distribution of prices\n",
    "plt.figure(figsize=(8, 6))\n",
    "plt.hist(data['Price'], bins=10, color='skyblue', edgecolor='black')\n",
    "plt.xlabel('Price')\n",
    "plt.ylabel('Frequency')\n",
    "plt.title('Distribution of Prices')\n",
    "plt.show()"
   ]
  },
  {
   "cell_type": "code",
   "execution_count": 133,
   "metadata": {},
   "outputs": [
    {
     "data": {
      "image/png": "[encoded data removed]",
      "text/plain": [
       "<Figure size 576x432 with 1 Axes>"
      ]
     },
     "metadata": {
      "needs_background": "light"
     },
     "output_type": "display_data"
    }
   ],
   "source": [
    "#Scatter plot for relationship between ratings and prices\n",
    "plt.figure(figsize=(8,6))\n",
    "sns.scatterplot(x='Rating', y='Price', data=data)\n",
    "plt.xlabel('Rating')\n",
    "plt.ylabel('Price')\n",
    "plt.title('Relationship between Ratings and Prices')\n",
    "plt.show()"
   ]
  },
  {
   "cell_type": "code",
   "execution_count": 134,
   "metadata": {},
   "outputs": [
    {
     "data": {
      "image/png": "[encoded data removed]",
      "text/plain": [
       "<Figure size 576x432 with 1 Axes>"
      ]
     },
     "metadata": {
      "needs_background": "light"
     },
     "output_type": "display_data"
    }
   ],
   "source": [
    "#Box plot for distribution of ratings by star rating\n",
    "plt.figure(figsize=(8,6))\n",
    "sns.boxplot(x='Star Rating', y='Rating', data=data)\n",
    "plt.xlabel('Star Rating')\n",
    "plt.ylabel('Rating')\n",
    "plt.title('Distribution of Ratings by Star Ratings')\n",
    "plt.show()"
   ]
  },
  {
   "cell_type": "code",
   "execution_count": 135,
   "metadata": {},
   "outputs": [
    {
     "data": {
      "image/png": "[encoded data removed]",
      "text/plain": [
       "<Figure size 576x432 with 2 Axes>"
      ]
     },
     "metadata": {
      "needs_background": "light"
     },
     "output_type": "display_data"
    }
   ],
   "source": [
    "#Heatmap for correlation between variables\n",
    "plt.figure(figsize=(8, 6))\n",
    "sns.heatmap(data[['Rating', 'Reviews', 'Price']].corr(), annot=True, cmap='coolwarm')\n",
    "plt.title('Correlation Heatmap')\n",
    "plt.show()"
   ]
  },
  {
   "cell_type": "code",
   "execution_count": 136,
   "metadata": {},
   "outputs": [
    {
     "data": {
      "image/png": "[encoded data removed]",
      "text/plain": [
       "<Figure size 576x432 with 1 Axes>"
      ]
     },
     "metadata": {},
     "output_type": "display_data"
    }
   ],
   "source": [
    "#Pie chart for correlation between variables\n",
    "plt.figure(figsize=(8,6))\n",
    "data['Star Rating'].value_counts().plot(kind='pie', autopct='%1.1f%%')\n",
    "plt.title('Proportion of Hotels by Star Rating')\n",
    "plt.ylabel('')\n",
    "plt.show()"
   ]
  },
  {
   "cell_type": "code",
   "execution_count": 137,
   "metadata": {},
   "outputs": [
    {
     "data": {
      "image/png": "[encoded data removed]",
      "text/plain": [
       "<Figure size 720x432 with 1 Axes>"
      ]
     },
     "metadata": {
      "needs_background": "light"
     },
     "output_type": "display_data"
    }
   ],
   "source": [
    "#Stacked bar chart for composition of hotels by star rating across different locations.\n",
    "stacked_data = data.groupby(['Location', 'Star Rating']).size().unstack()\n",
    "stacked_data.plot(kind='bar', stacked=True, figsize=(10,6))\n",
    "plt.xlabel('Location')\n",
    "plt.ylabel('Number of Hotels')\n",
    "plt.title('Composition of Hotels by Star Rating Across Locations')\n",
    "plt.xticks(rotation=45)\n",
    "plt.legend(title='Star Rating')\n",
    "plt.show()"
   ]
  },
  {
   "cell_type": "code",
   "execution_count": 138,
   "metadata": {},
   "outputs": [
    {
     "data": {
      "image/png": "[encoded data removed]",
      "text/plain": [
       "<Figure size 576x432 with 1 Axes>"
      ]
     },
     "metadata": {
      "needs_background": "light"
     },
     "output_type": "display_data"
    }
   ],
   "source": [
    "#violn plot for distribution of ratings by Star rating\n",
    "plt.figure(figsize=(8, 6))\n",
    "sns.violinplot(x='Star Rating', y='Rating', data=data)\n",
    "plt.xlabel('Star Rating')\n",
    "plt.ylabel('Rating')\n",
    "plt.title('Distribution of Ratings by Star Rating')\n",
    "plt.show()"
   ]
  },
  {
   "cell_type": "code",
   "execution_count": 139,
   "metadata": {},
   "outputs": [
    {
     "data": {
      "image/png": "[encoded data removed]",
      "text/plain": [
       "<Figure size 540x540 with 12 Axes>"
      ]
     },
     "metadata": {
      "needs_background": "light"
     },
     "output_type": "display_data"
    }
   ],
   "source": [
    "#Pair plot for pairwise relationships between numerical variables\n",
    "sns.pairplot(data[['Rating', 'Reviews', 'Price']])\n",
    "plt.suptitle('Pairwise Relationships Between Numerical Variables', y=1.02)\n",
    "plt.show()"
   ]
  },
  {
   "cell_type": "code",
   "execution_count": 140,
   "metadata": {},
   "outputs": [
    {
     "data": {
      "image/png": "[encoded data removed]",
      "text/plain": [
       "<Figure size 648x1728 with 22 Axes>"
      ]
     },
     "metadata": {
      "needs_background": "light"
     },
     "output_type": "display_data"
    }
   ],
   "source": [
    "#Facet grid for comparing distributions of prices by location\n",
    "g = sns.FacetGrid(data, col='Location', col_wrap=3)\n",
    "g.map(plt.hist, 'Price', bins=10)\n",
    "g.set_axis_labels('Price', 'Frequency')\n",
    "g.fig.suptitle('Distribution of Prices by Location', y=1.02)\n",
    "plt.show()"
   ]
  },
  {
   "cell_type": "code",
   "execution_count": 141,
   "metadata": {},
   "outputs": [
    {
     "name": "stdout",
     "output_type": "stream",
     "text": [
      "Hotel Name              Chandys Windy Woods\n",
      "Rating                                  4.8\n",
      "Rating Description                Excellent\n",
      "Reviews                                 355\n",
      "Star Rating                               5\n",
      "Location                     Chithirapuram \n",
      "Nearest Landmark                city centre\n",
      "Distance to Landmark                    8.8\n",
      "Price                                  9000\n",
      "Tax                                     684\n",
      "Name: 27, dtype: object\n"
     ]
    }
   ],
   "source": [
    "\n",
    "highest_rated_hotels = data.sort_values(by='Rating', ascending=False)\n",
    "highest_rating = highest_rated_hotels.iloc[0]\n",
    "print(highest_rating)"
   ]
  },
  {
   "cell_type": "code",
   "execution_count": 143,
   "metadata": {},
   "outputs": [
    {
     "name": "stdout",
     "output_type": "stream",
     "text": [
      "Hotel Chandys Windy Woods:\n",
      "Mean Rating: 4.8\n",
      "Mean Price: 9000.0\n",
      "\n",
      "Munnar Dataset:\n",
      "Mean Rating: 4.0689189189189205\n",
      "Mean Price: 3982.2432432432433\n",
      "\n",
      " Results of t-tests:\n",
      "Rating - p-value:  nan\n",
      "Rating - p-value:  nan\n"
     ]
    }
   ],
   "source": [
    "#Hypothesis testing\n",
    "# can hotel 'Chandy Windy Woods' claim that they are premium hotels based on rating adn the price at which they provide their\n",
    "#rooms are average in the whole of Munnar? if yes with what guarantee?\n",
    "from scipy.stats import ttest_1samp\n",
    "\n",
    "hotel_CWW = data[data['Hotel Name'] == 'Chandys Windy Woods']\n",
    "\n",
    "#calculate mean rating and price for the hotel\n",
    "mean_rating = hotel_CWW['Rating'].mean()\n",
    "mean_price = hotel_CWW['Price'].mean()\n",
    "\n",
    "#Calculate mean rating and mean price for the entire Munnar dataset\n",
    "mean_rating_munnar = data['Rating'].mean()\n",
    "mean_price_munnar = data['Price'].mean()\n",
    "\n",
    "#Perform hypothesis tests\n",
    "t_statistic_rating, p_value_rating = ttest_1samp(hotel_CWW['Rating'], mean_rating_munnar)\n",
    "t_statistic_price, p_value_price = ttest_1samp(hotel_CWW['Price'], mean_price_munnar)\n",
    "\n",
    "#Define significance level\n",
    "alpha = 0.05\n",
    "\n",
    "#Print results\n",
    "print(\"Hotel Chandys Windy Woods:\")\n",
    "print(\"Mean Rating:\", mean_rating)\n",
    "print(\"Mean Price:\", mean_price)\n",
    "print(\"\\nMunnar Dataset:\")\n",
    "print(\"Mean Rating:\", mean_rating_munnar)\n",
    "print(\"Mean Price:\", mean_price_munnar)\n",
    "print(\"\\n Results of t-tests:\")\n",
    "print(\"Rating - p-value: \", p_value_rating)\n",
    "print(\"Rating - p-value: \", p_value_price)\n",
    "\n",
    "#Interpret results\n",
    "#if p_value_rating < alpha:\n",
    "#    print(\"\\nHotel Chandys Windy Woods's rating is significantly different from the mean rating of the Munnar dataset.\")\n",
    "#else:\n",
    " #   print(\"\\nHotel Chandys Windy Woods's rating is not significantly different from the mean rating of the Munnar dataset.\")\n",
    "    \n",
    "#3if p_value_price < alpha:\n",
    " #   print(\"\\nHotel Chandys Windy Woods's price is significantly different from the mean price of the Munnar dataset.\")\n",
    "#else:\n",
    " #   print(\"\\nHotel Chandys Windy Woods's price is not significantly different from the mean price of the Munnar dataset.\")\n",
    "    "
   ]
  },
  {
   "cell_type": "code",
   "execution_count": 145,
   "metadata": {},
   "outputs": [
    {
     "name": "stdout",
     "output_type": "stream",
     "text": [
      "Outliers:\n",
      "   column  Outlier Value\n",
      "0  Rating            2.8\n"
     ]
    }
   ],
   "source": [
    "from scipy import stats\n",
    "\n",
    "#Define the columns to check for outliers\n",
    "columns_to_check = data[['Rating', 'Price']]\n",
    "\n",
    "#Create a DataFrame to store the outliers\n",
    "outliers_df = pd.DataFrame(columns=['column','Outlier Value'])\n",
    "\n",
    "#Iterate over each column\n",
    "for column in columns_to_check:\n",
    "    \n",
    "    z_scores = stats.zscore(data[column])\n",
    "    \n",
    "    z_score_threshold = 3\n",
    "    outliers_indices = abs(z_scores) > z_score_threshold\n",
    "    \n",
    "    outliers_values = data[column][outliers_indices]\n",
    "    \n",
    "    outliers_df = outliers_df.append(pd.DataFrame({'column':[column]* len(outliers_values), 'Outlier Value': outliers_values}), ignore_index=True)\n",
    "    \n",
    "    \n",
    "print(\"Outliers:\")\n",
    "print(outliers_df)"
   ]
  },
  {
   "cell_type": "code",
   "execution_count": null,
   "metadata": {},
   "outputs": [],
   "source": [
    "#We can see an outlier in our 'Rating' Column and we handled with applying median of the 'Rating' column"
   ]
  },
  {
   "cell_type": "code",
   "execution_count": 85,
   "metadata": {},
   "outputs": [],
   "source": [
    "for index, row in outliers_df.iterrows():\n",
    "    data.loc[data[row['column']] == row['Outlier Value'], row['column']] = data[row['column']].median()"
   ]
  },
  {
   "cell_type": "code",
   "execution_count": null,
   "metadata": {},
   "outputs": [],
   "source": [
    "#The warnings encountered, particularly the one about degress of freedom being too low, suggest that the Munnar dataset may be\n",
    "#small which could affect the statistical tests such as t-tests"
   ]
  },
  {
   "cell_type": "code",
   "execution_count": 147,
   "metadata": {},
   "outputs": [
    {
     "name": "stdout",
     "output_type": "stream",
     "text": [
      "Mannwhitney U Test:\n",
      "Statistics: 0.0\n",
      "p-value: 4.135480223410844e-26\n",
      "Reject the null hypothesis: There is a significance difference between the distributions of ratings and prices.\n"
     ]
    }
   ],
   "source": [
    "\n",
    "from scipy.stats import mannwhitneyu\n",
    "\n",
    "ratings = data['Rating']\n",
    "prices = data['Price']\n",
    "\n",
    "statistic, p_value = mannwhitneyu(ratings, prices)\n",
    "\n",
    "print(\"Mannwhitney U Test:\")\n",
    "print(\"Statistics:\", statistic)\n",
    "print(\"p-value:\", p_value)\n",
    "\n",
    "alpha = 0.05\n",
    "\n",
    "if p_value < alpha:\n",
    "    print(\"Reject the null hypothesis: There is a significance difference between the distributions of ratings and prices.\")\n",
    "else:\n",
    "    print(\"Fail to reject the null hypothesis: There is no significant difference between the distributions of ratings and prices.\")"
   ]
  },
  {
   "cell_type": "code",
   "execution_count": null,
   "metadata": {},
   "outputs": [],
   "source": [
    "#Based on the above results of the Mann-Whitney U test, which indicates a significant difference between the distributions of ratings\n",
    "#and prices in the dataset, cannot conclude that a hotel can claim to be premium solely based on rating while providing rooms at\n",
    "#an average price."
   ]
  },
  {
   "cell_type": "code",
   "execution_count": null,
   "metadata": {},
   "outputs": [],
   "source": []
  },
  {
   "cell_type": "code",
   "execution_count": null,
   "metadata": {},
   "outputs": [],
   "source": []
  },
  {
   "cell_type": "code",
   "execution_count": null,
   "metadata": {},
   "outputs": [],
   "source": []
  },
  {
   "cell_type": "code",
   "execution_count": null,
   "metadata": {},
   "outputs": [],
   "source": []
  },
  {
   "cell_type": "code",
   "execution_count": null,
   "metadata": {},
   "outputs": [],
   "source": []
  },
  {
   "cell_type": "code",
   "execution_count": null,
   "metadata": {},
   "outputs": [],
   "source": []
  },
  {
   "cell_type": "code",
   "execution_count": null,
   "metadata": {},
   "outputs": [],
   "source": []
  },
  {
   "cell_type": "code",
   "execution_count": null,
   "metadata": {},
   "outputs": [],
   "source": []
  },
  {
   "cell_type": "code",
   "execution_count": null,
   "metadata": {},
   "outputs": [],
   "source": []
  },
  {
   "cell_type": "code",
   "execution_count": null,
   "metadata": {},
   "outputs": [],
   "source": []
  },
  {
   "cell_type": "code",
   "execution_count": null,
   "metadata": {},
   "outputs": [],
   "source": []
  },
  {
   "cell_type": "code",
   "execution_count": null,
   "metadata": {},
   "outputs": [],
   "source": []
  },
  {
   "cell_type": "code",
   "execution_count": null,
   "metadata": {},
   "outputs": [],
   "source": []
  },
  {
   "cell_type": "code",
   "execution_count": null,
   "metadata": {},
   "outputs": [],
   "source": []
  },
  {
   "cell_type": "code",
   "execution_count": null,
   "metadata": {},
   "outputs": [],
   "source": []
  },
  {
   "cell_type": "code",
   "execution_count": null,
   "metadata": {},
   "outputs": [],
   "source": []
  },
  {
   "cell_type": "code",
   "execution_count": null,
   "metadata": {},
   "outputs": [],
   "source": []
  },
  {
   "cell_type": "code",
   "execution_count": null,
   "metadata": {},
   "outputs": [],
   "source": []
  },
  {
   "cell_type": "code",
   "execution_count": null,
   "metadata": {},
   "outputs": [],
   "source": []
  },
  {
   "cell_type": "code",
   "execution_count": null,
   "metadata": {},
   "outputs": [],
   "source": []
  },
  {
   "cell_type": "code",
   "execution_count": null,
   "metadata": {},
   "outputs": [],
   "source": []
  },
  {
   "cell_type": "code",
   "execution_count": null,
   "metadata": {},
   "outputs": [],
   "source": []
  },
  {
   "cell_type": "code",
   "execution_count": null,
   "metadata": {},
   "outputs": [],
   "source": []
  },
  {
   "cell_type": "code",
   "execution_count": null,
   "metadata": {},
   "outputs": [],
   "source": []
  },
  {
   "cell_type": "code",
   "execution_count": null,
   "metadata": {},
   "outputs": [],
   "source": []
  },
  {
   "cell_type": "code",
   "execution_count": null,
   "metadata": {},
   "outputs": [],
   "source": []
  },
  {
   "cell_type": "code",
   "execution_count": null,
   "metadata": {},
   "outputs": [],
   "source": []
  },
  {
   "cell_type": "code",
   "execution_count": null,
   "metadata": {},
   "outputs": [],
   "source": []
  },
  {
   "cell_type": "code",
   "execution_count": null,
   "metadata": {},
   "outputs": [],
   "source": []
  },
  {
   "cell_type": "code",
   "execution_count": null,
   "metadata": {},
   "outputs": [],
   "source": []
  },
  {
   "cell_type": "code",
   "execution_count": null,
   "metadata": {},
   "outputs": [],
   "source": []
  },
  {
   "cell_type": "code",
   "execution_count": null,
   "metadata": {},
   "outputs": [],
   "source": []
  },
  {
   "cell_type": "code",
   "execution_count": null,
   "metadata": {},
   "outputs": [],
   "source": []
  },
  {
   "cell_type": "code",
   "execution_count": null,
   "metadata": {},
   "outputs": [],
   "source": []
  },
  {
   "cell_type": "code",
   "execution_count": null,
   "metadata": {},
   "outputs": [],
   "source": []
  },
  {
   "cell_type": "code",
   "execution_count": null,
   "metadata": {},
   "outputs": [],
   "source": []
  },
  {
   "cell_type": "code",
   "execution_count": null,
   "metadata": {},
   "outputs": [],
   "source": []
  },
  {
   "cell_type": "code",
   "execution_count": null,
   "metadata": {},
   "outputs": [],
   "source": []
  },
  {
   "cell_type": "code",
   "execution_count": null,
   "metadata": {},
   "outputs": [],
   "source": []
  },
  {
   "cell_type": "code",
   "execution_count": null,
   "metadata": {},
   "outputs": [],
   "source": []
  },
  {
   "cell_type": "code",
   "execution_count": null,
   "metadata": {},
   "outputs": [],
   "source": []
  },
  {
   "cell_type": "code",
   "execution_count": null,
   "metadata": {},
   "outputs": [],
   "source": []
  },
  {
   "cell_type": "code",
   "execution_count": null,
   "metadata": {},
   "outputs": [],
   "source": []
  },
  {
   "cell_type": "code",
   "execution_count": null,
   "metadata": {},
   "outputs": [],
   "source": []
  },
  {
   "cell_type": "code",
   "execution_count": null,
   "metadata": {},
   "outputs": [],
   "source": []
  },
  {
   "cell_type": "code",
   "execution_count": null,
   "metadata": {},
   "outputs": [],
   "source": []
  },
  {
   "cell_type": "code",
   "execution_count": null,
   "metadata": {},
   "outputs": [],
   "source": []
  },
  {
   "cell_type": "code",
   "execution_count": null,
   "metadata": {},
   "outputs": [],
   "source": []
  },
  {
   "cell_type": "code",
   "execution_count": null,
   "metadata": {},
   "outputs": [],
   "source": []
  },
  {
   "cell_type": "code",
   "execution_count": null,
   "metadata": {},
   "outputs": [],
   "source": []
  },
  {
   "cell_type": "code",
   "execution_count": null,
   "metadata": {},
   "outputs": [],
   "source": []
  },
  {
   "cell_type": "code",
   "execution_count": null,
   "metadata": {},
   "outputs": [],
   "source": []
  },
  {
   "cell_type": "code",
   "execution_count": null,
   "metadata": {},
   "outputs": [],
   "source": []
  },
  {
   "cell_type": "code",
   "execution_count": null,
   "metadata": {},
   "outputs": [],
   "source": []
  }
 ],
 "metadata": {
  "kernelspec": {
   "display_name": "Python 3",
   "language": "python",
   "name": "python3"
  },
  "language_info": {
   "codemirror_mode": {
    "name": "ipython",
    "version": 3
   },
   "file_extension": ".py",
   "mimetype": "text/x-python",
   "name": "python",
   "nbconvert_exporter": "python",
   "pygments_lexer": "ipython3",
   "version": "3.7.6"
  }
 },
 "nbformat": 4,
 "nbformat_minor": 4
}
